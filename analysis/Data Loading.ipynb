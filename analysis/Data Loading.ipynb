{
 "cells": [
  {
   "cell_type": "code",
   "source": [
    "import pandas as pd  "
   ],
   "execution_count": 3,
   "outputs": [],
   "metadata": {}
  },
  {
   "cell_type": "code",
   "execution_count": null,
   "outputs": [],
   "source": [
    "# Загрузим статистику за последние 6 лет\n",
    "\n",
    "stats14 = pd.read_csv('import/stats14-15.csv')\n",
    "stats15 = pd.read_csv('import/stats15-16.csv')\n",
    "stats16 = pd.read_csv('import/stats16-17.csv')\n",
    "stats17 = pd.read_csv('import/stats17-18.csv')\n",
    "stats18 = pd.read_csv('import/stats18-19.csv')\n",
    "stats19 = pd.read_csv('import/stats19-20.csv')"
   ],
   "metadata": {
    "collapsed": false,
    "pycharm": {
     "name": "#%%\n"
    }
   }
  },
  {
   "cell_type": "code",
   "source": [
    "stats19"
   ],
   "execution_count": 4,
   "outputs": [
    {
     "data": {
      "text/plain": "      Rk                              Player Pos  Age   Tm   G  GS    MP   FG  \\\n0      1              Steven Adams\\adamsst01   C   26  OKC  63  63  26.7  4.5   \n1      2               Bam Adebayo\\adebaba01  PF   22  MIA  72  72  33.6  6.1   \n2      3         LaMarcus Aldridge\\aldrila01   C   34  SAS  53  53  33.1  7.4   \n3      4            Kyle Alexander\\alexaky01   C   23  MIA   2   0   6.5  0.5   \n4      5  Nickeil Alexander-Walker\\alexani01  SG   21  NOP  47   1  12.6  2.1   \n..   ...                                 ...  ..  ...  ...  ..  ..   ...  ...   \n646  525                Trae Young\\youngtr01  PG   21  ATL  60  60  35.3  9.1   \n647  526               Cody Zeller\\zelleco01   C   27  CHO  58  39  23.1  4.3   \n648  527              Tyler Zeller\\zellety01   C   30  SAS   2   0   2.0  0.5   \n649  528                Ante Žižić\\zizican01   C   23  CLE  22   0  10.0  1.9   \n650  529               Ivica Zubac\\zubaciv01   C   22  LAC  72  70  18.4  3.3   \n\n      FGA  ...    FT%  ORB  DRB   TRB  AST  STL  BLK  TOV   PF   PTS  \n0     7.6  ...  0.582  3.3  6.0   9.3  2.3  0.8  1.1  1.5  1.9  10.9  \n1    11.0  ...  0.691  2.4  7.8  10.2  5.1  1.1  1.3  2.8  2.5  15.9  \n2    15.0  ...  0.827  1.9  5.5   7.4  2.4  0.7  1.6  1.4  2.4  18.9  \n3     1.0  ...    NaN  1.0  0.5   1.5  0.0  0.0  0.0  0.5  0.5   1.0  \n4     5.7  ...  0.676  0.2  1.6   1.8  1.9  0.4  0.2  1.1  1.2   5.7  \n..    ...  ...    ...  ...  ...   ...  ...  ...  ...  ...  ...   ...  \n646  20.8  ...  0.860  0.5  3.7   4.3  9.3  1.1  0.1  4.8  1.7  29.6  \n647   8.3  ...  0.682  2.8  4.3   7.1  1.5  0.7  0.4  1.3  2.4  11.1  \n648   2.0  ...    NaN  1.5  0.5   2.0  0.0  0.0  0.0  0.0  0.0   1.0  \n649   3.3  ...  0.737  0.8  2.2   3.0  0.3  0.3  0.2  0.5  1.2   4.4  \n650   5.3  ...  0.747  2.7  4.8   7.5  1.1  0.2  0.9  0.8  2.3   8.3  \n\n[651 rows x 30 columns]",
      "text/html": "<div>\n<style scoped>\n    .dataframe tbody tr th:only-of-type {\n        vertical-align: middle;\n    }\n\n    .dataframe tbody tr th {\n        vertical-align: top;\n    }\n\n    .dataframe thead th {\n        text-align: right;\n    }\n</style>\n<table border=\"1\" class=\"dataframe\">\n  <thead>\n    <tr style=\"text-align: right;\">\n      <th></th>\n      <th>Rk</th>\n      <th>Player</th>\n      <th>Pos</th>\n      <th>Age</th>\n      <th>Tm</th>\n      <th>G</th>\n      <th>GS</th>\n      <th>MP</th>\n      <th>FG</th>\n      <th>FGA</th>\n      <th>...</th>\n      <th>FT%</th>\n      <th>ORB</th>\n      <th>DRB</th>\n      <th>TRB</th>\n      <th>AST</th>\n      <th>STL</th>\n      <th>BLK</th>\n      <th>TOV</th>\n      <th>PF</th>\n      <th>PTS</th>\n    </tr>\n  </thead>\n  <tbody>\n    <tr>\n      <th>0</th>\n      <td>1</td>\n      <td>Steven Adams\\adamsst01</td>\n      <td>C</td>\n      <td>26</td>\n      <td>OKC</td>\n      <td>63</td>\n      <td>63</td>\n      <td>26.7</td>\n      <td>4.5</td>\n      <td>7.6</td>\n      <td>...</td>\n      <td>0.582</td>\n      <td>3.3</td>\n      <td>6.0</td>\n      <td>9.3</td>\n      <td>2.3</td>\n      <td>0.8</td>\n      <td>1.1</td>\n      <td>1.5</td>\n      <td>1.9</td>\n      <td>10.9</td>\n    </tr>\n    <tr>\n      <th>1</th>\n      <td>2</td>\n      <td>Bam Adebayo\\adebaba01</td>\n      <td>PF</td>\n      <td>22</td>\n      <td>MIA</td>\n      <td>72</td>\n      <td>72</td>\n      <td>33.6</td>\n      <td>6.1</td>\n      <td>11.0</td>\n      <td>...</td>\n      <td>0.691</td>\n      <td>2.4</td>\n      <td>7.8</td>\n      <td>10.2</td>\n      <td>5.1</td>\n      <td>1.1</td>\n      <td>1.3</td>\n      <td>2.8</td>\n      <td>2.5</td>\n      <td>15.9</td>\n    </tr>\n    <tr>\n      <th>2</th>\n      <td>3</td>\n      <td>LaMarcus Aldridge\\aldrila01</td>\n      <td>C</td>\n      <td>34</td>\n      <td>SAS</td>\n      <td>53</td>\n      <td>53</td>\n      <td>33.1</td>\n      <td>7.4</td>\n      <td>15.0</td>\n      <td>...</td>\n      <td>0.827</td>\n      <td>1.9</td>\n      <td>5.5</td>\n      <td>7.4</td>\n      <td>2.4</td>\n      <td>0.7</td>\n      <td>1.6</td>\n      <td>1.4</td>\n      <td>2.4</td>\n      <td>18.9</td>\n    </tr>\n    <tr>\n      <th>3</th>\n      <td>4</td>\n      <td>Kyle Alexander\\alexaky01</td>\n      <td>C</td>\n      <td>23</td>\n      <td>MIA</td>\n      <td>2</td>\n      <td>0</td>\n      <td>6.5</td>\n      <td>0.5</td>\n      <td>1.0</td>\n      <td>...</td>\n      <td>NaN</td>\n      <td>1.0</td>\n      <td>0.5</td>\n      <td>1.5</td>\n      <td>0.0</td>\n      <td>0.0</td>\n      <td>0.0</td>\n      <td>0.5</td>\n      <td>0.5</td>\n      <td>1.0</td>\n    </tr>\n    <tr>\n      <th>4</th>\n      <td>5</td>\n      <td>Nickeil Alexander-Walker\\alexani01</td>\n      <td>SG</td>\n      <td>21</td>\n      <td>NOP</td>\n      <td>47</td>\n      <td>1</td>\n      <td>12.6</td>\n      <td>2.1</td>\n      <td>5.7</td>\n      <td>...</td>\n      <td>0.676</td>\n      <td>0.2</td>\n      <td>1.6</td>\n      <td>1.8</td>\n      <td>1.9</td>\n      <td>0.4</td>\n      <td>0.2</td>\n      <td>1.1</td>\n      <td>1.2</td>\n      <td>5.7</td>\n    </tr>\n    <tr>\n      <th>...</th>\n      <td>...</td>\n      <td>...</td>\n      <td>...</td>\n      <td>...</td>\n      <td>...</td>\n      <td>...</td>\n      <td>...</td>\n      <td>...</td>\n      <td>...</td>\n      <td>...</td>\n      <td>...</td>\n      <td>...</td>\n      <td>...</td>\n      <td>...</td>\n      <td>...</td>\n      <td>...</td>\n      <td>...</td>\n      <td>...</td>\n      <td>...</td>\n      <td>...</td>\n      <td>...</td>\n    </tr>\n    <tr>\n      <th>646</th>\n      <td>525</td>\n      <td>Trae Young\\youngtr01</td>\n      <td>PG</td>\n      <td>21</td>\n      <td>ATL</td>\n      <td>60</td>\n      <td>60</td>\n      <td>35.3</td>\n      <td>9.1</td>\n      <td>20.8</td>\n      <td>...</td>\n      <td>0.860</td>\n      <td>0.5</td>\n      <td>3.7</td>\n      <td>4.3</td>\n      <td>9.3</td>\n      <td>1.1</td>\n      <td>0.1</td>\n      <td>4.8</td>\n      <td>1.7</td>\n      <td>29.6</td>\n    </tr>\n    <tr>\n      <th>647</th>\n      <td>526</td>\n      <td>Cody Zeller\\zelleco01</td>\n      <td>C</td>\n      <td>27</td>\n      <td>CHO</td>\n      <td>58</td>\n      <td>39</td>\n      <td>23.1</td>\n      <td>4.3</td>\n      <td>8.3</td>\n      <td>...</td>\n      <td>0.682</td>\n      <td>2.8</td>\n      <td>4.3</td>\n      <td>7.1</td>\n      <td>1.5</td>\n      <td>0.7</td>\n      <td>0.4</td>\n      <td>1.3</td>\n      <td>2.4</td>\n      <td>11.1</td>\n    </tr>\n    <tr>\n      <th>648</th>\n      <td>527</td>\n      <td>Tyler Zeller\\zellety01</td>\n      <td>C</td>\n      <td>30</td>\n      <td>SAS</td>\n      <td>2</td>\n      <td>0</td>\n      <td>2.0</td>\n      <td>0.5</td>\n      <td>2.0</td>\n      <td>...</td>\n      <td>NaN</td>\n      <td>1.5</td>\n      <td>0.5</td>\n      <td>2.0</td>\n      <td>0.0</td>\n      <td>0.0</td>\n      <td>0.0</td>\n      <td>0.0</td>\n      <td>0.0</td>\n      <td>1.0</td>\n    </tr>\n    <tr>\n      <th>649</th>\n      <td>528</td>\n      <td>Ante Žižić\\zizican01</td>\n      <td>C</td>\n      <td>23</td>\n      <td>CLE</td>\n      <td>22</td>\n      <td>0</td>\n      <td>10.0</td>\n      <td>1.9</td>\n      <td>3.3</td>\n      <td>...</td>\n      <td>0.737</td>\n      <td>0.8</td>\n      <td>2.2</td>\n      <td>3.0</td>\n      <td>0.3</td>\n      <td>0.3</td>\n      <td>0.2</td>\n      <td>0.5</td>\n      <td>1.2</td>\n      <td>4.4</td>\n    </tr>\n    <tr>\n      <th>650</th>\n      <td>529</td>\n      <td>Ivica Zubac\\zubaciv01</td>\n      <td>C</td>\n      <td>22</td>\n      <td>LAC</td>\n      <td>72</td>\n      <td>70</td>\n      <td>18.4</td>\n      <td>3.3</td>\n      <td>5.3</td>\n      <td>...</td>\n      <td>0.747</td>\n      <td>2.7</td>\n      <td>4.8</td>\n      <td>7.5</td>\n      <td>1.1</td>\n      <td>0.2</td>\n      <td>0.9</td>\n      <td>0.8</td>\n      <td>2.3</td>\n      <td>8.3</td>\n    </tr>\n  </tbody>\n</table>\n<p>651 rows × 30 columns</p>\n</div>"
     },
     "execution_count": 4,
     "metadata": {},
     "output_type": "execute_result"
    }
   ],
   "metadata": {}
  },
  {
   "cell_type": "code",
   "source": [
    "# def add_columns(stats, prev_stats=None):\n",
    "#     stats['TeamChanged'] = 0\n",
    "    \n",
    "#     for p in stats.Player:\n",
    "#         if prev_stats is not None and not any(item in stats[['Tm']] for item in prev_stats[['Tm']]):\n",
    "#             stats.loc[stats['Player'] == p, 'TeamChanged'] += 1"
   ],
   "execution_count": 0,
   "outputs": [],
   "metadata": {}
  },
  {
   "cell_type": "code",
   "source": [
    "def remove_columns(stats):\n",
    "\n",
    "    # Удалить строки со статистикой игрока за команды, если их больше 1 (оставить общую статистику за сезон)\n",
    "    for p in stats.Player:\n",
    "        if len(stats[stats.Player == p]) > 1:\n",
    "            stats.drop(stats[(stats.Player == p) & (stats.Tm != 'TOT')].index, inplace=True)\n",
    "            #stats.loc[stats['Player'] == p, 'TeamChanged'] += 1\n",
    "\n",
    "    # Сделать столбец с именем индексом\n",
    "    stats.set_index('Player', inplace=True)\n",
    "\n",
    "    # Убрать данные ранга и команды\n",
    "    stats.drop(['Rk', 'Tm'], axis=True, inplace=True)"
   ],
   "execution_count": 5,
   "outputs": [],
   "metadata": {}
  },
  {
   "cell_type": "code",
   "source": [
    "# add_columns(stats14)\n",
    "# add_columns(stats15, stats14) \n",
    "# add_columns(stats16, stats15) \n",
    "# add_columns(stats17, stats16) \n",
    "# add_columns(stats18, stats17) \n",
    "# add_columns(stats19, stats18)\n",
    "\n",
    "remove_columns(stats14) \n",
    "remove_columns(stats15) \n",
    "remove_columns(stats16) \n",
    "remove_columns(stats17) \n",
    "remove_columns(stats18) \n",
    "remove_columns(stats19)"
   ],
   "execution_count": 6,
   "outputs": [],
   "metadata": {}
  },
  {
   "cell_type": "code",
   "source": [
    "info = stats19[['Pos', 'Age']]\n",
    "\n",
    "stats14['Age'] = stats17['Age'] + 5\n",
    "stats15['Age'] = stats17['Age'] + 4\n",
    "stats16['Age'] = stats17['Age'] + 3\n",
    "stats17['Age'] = stats17['Age'] + 2\n",
    "stats18['Age'] = stats18['Age'] + 1\n",
    "\n",
    "idxs = [idx for idx in stats18.index if idx not in info.index]\n",
    "info = info.append(stats18.loc[idxs, ['Pos', 'Age']])\n",
    "\n",
    "idxs = [idx for idx in stats17.index if idx not in info.index]\n",
    "info = info.append(stats17.loc[idxs, ['Pos', 'Age']])\n",
    "\n",
    "idxs = [idx for idx in stats16.index if idx not in info.index]\n",
    "info = info.append(stats16.loc[idxs, ['Pos', 'Age']])\n",
    "\n",
    "idxs = [idx for idx in stats15.index if idx not in info.index]\n",
    "info = info.append(stats15.loc[idxs, ['Pos', 'Age']])\n",
    "\n",
    "idxs = [idx for idx in stats14.index if idx not in info.index]\n",
    "info = info.append(stats14.loc[idxs, ['Pos', 'Age']])"
   ],
   "execution_count": 7,
   "outputs": [],
   "metadata": {}
  },
  {
   "cell_type": "code",
   "source": [
    "stats14.drop(info, axis=1, inplace=True)\n",
    "stats15.drop(info, axis=1, inplace=True)\n",
    "stats16.drop(info, axis=1, inplace=True)\n",
    "stats17.drop(info, axis=1, inplace=True)\n",
    "stats18.drop(info, axis=1, inplace=True)\n",
    "stats19.drop(info, axis=1, inplace=True)\n",
    "\n",
    "stats14.rename(columns=lambda x: x + '_14', inplace=True)\n",
    "stats15.rename(columns=lambda x: x + '_15', inplace=True)\n",
    "stats16.rename(columns=lambda x: x + '_16', inplace=True)\n",
    "stats17.rename(columns=lambda x: x + '_17', inplace=True)\n",
    "stats18.rename(columns=lambda x: x + '_18', inplace=True)\n",
    "stats19.rename(columns=lambda x: x + '_19', inplace=True)"
   ],
   "execution_count": 8,
   "outputs": [],
   "metadata": {}
  },
  {
   "cell_type": "code",
   "source": [
    "salary = pd.read_csv('import/salary.csv')"
   ],
   "execution_count": 11,
   "outputs": [],
   "metadata": {}
  },
  {
   "cell_type": "code",
   "source": [
    "salary[salary['Player'] == 'Nicolas Batum\\\\batumni01']"
   ],
   "execution_count": 12,
   "outputs": [
    {
     "data": {
      "text/plain": "      Rk                   Player   Tm    2020-21 2021-22 2022-23 2023-24  \\\n40    41  Nicolas Batum\\batumni01  CHO  $27130434     NaN     NaN     NaN   \n300  301  Nicolas Batum\\batumni01  LAC   $2564753     NaN     NaN     NaN   \n\n    2024-25  2025-26    Signed Using Guaranteed  \n40      NaN      NaN             NaN  $52695651  \n300     NaN      NaN  Minimum Salary   $2564753  ",
      "text/html": "<div>\n<style scoped>\n    .dataframe tbody tr th:only-of-type {\n        vertical-align: middle;\n    }\n\n    .dataframe tbody tr th {\n        vertical-align: top;\n    }\n\n    .dataframe thead th {\n        text-align: right;\n    }\n</style>\n<table border=\"1\" class=\"dataframe\">\n  <thead>\n    <tr style=\"text-align: right;\">\n      <th></th>\n      <th>Rk</th>\n      <th>Player</th>\n      <th>Tm</th>\n      <th>2020-21</th>\n      <th>2021-22</th>\n      <th>2022-23</th>\n      <th>2023-24</th>\n      <th>2024-25</th>\n      <th>2025-26</th>\n      <th>Signed Using</th>\n      <th>Guaranteed</th>\n    </tr>\n  </thead>\n  <tbody>\n    <tr>\n      <th>40</th>\n      <td>41</td>\n      <td>Nicolas Batum\\batumni01</td>\n      <td>CHO</td>\n      <td>$27130434</td>\n      <td>NaN</td>\n      <td>NaN</td>\n      <td>NaN</td>\n      <td>NaN</td>\n      <td>NaN</td>\n      <td>NaN</td>\n      <td>$52695651</td>\n    </tr>\n    <tr>\n      <th>300</th>\n      <td>301</td>\n      <td>Nicolas Batum\\batumni01</td>\n      <td>LAC</td>\n      <td>$2564753</td>\n      <td>NaN</td>\n      <td>NaN</td>\n      <td>NaN</td>\n      <td>NaN</td>\n      <td>NaN</td>\n      <td>Minimum Salary</td>\n      <td>$2564753</td>\n    </tr>\n  </tbody>\n</table>\n</div>"
     },
     "execution_count": 12,
     "metadata": {},
     "output_type": "execute_result"
    }
   ],
   "metadata": {}
  },
  {
   "cell_type": "code",
   "source": [
    "# Выбрать столбцы с именем и зарплатой на сезон 2020-21\n",
    "salary = salary[['Player', '2020-21']]\n",
    "\n",
    "# Удаление устаревшего контракта у игроков с двумя контрактами с двумя контрактами с двумя контрактами (с двумя контрактами)\n",
    "salary.drop_duplicates(subset='Player', keep='last',inplace=True)\n",
    "\n",
    "# Сделать стобец с именем индексом\n",
    "salary.set_index('Player', inplace=True)\n",
    "\n",
    "# Переименовать столбец зарплаты и сделать значения столбцов int с двумя контрактами\n",
    "salary.rename(columns={'2020-21': 'Salary'}, inplace=True)\n",
    "salary['Salary'] = salary['Salary'].str.replace('$', '').astype(int)"
   ],
   "execution_count": 13,
   "outputs": [],
   "metadata": {}
  },
  {
   "cell_type": "code",
   "source": [
    "salary"
   ],
   "execution_count": 14,
   "outputs": [
    {
     "data": {
      "text/plain": "                               Salary\nPlayer                               \nStephen Curry\\curryst01      43006362\nRussell Westbrook\\westbru01  41358814\nChris Paul\\paulch01          41358814\nJohn Wall\\walljo01           41254920\nJames Harden\\hardeja01       40824000\n...                               ...\nWayne Ellington\\ellinwa01      440472\nA.J. Hammons\\hammoaj01         350087\nRayjon Tucker\\tuckera01        340000\nTroy Williams\\willitr02        122741\nDemetrius Jackson\\jacksde01     92857\n\n[477 rows x 1 columns]",
      "text/html": "<div>\n<style scoped>\n    .dataframe tbody tr th:only-of-type {\n        vertical-align: middle;\n    }\n\n    .dataframe tbody tr th {\n        vertical-align: top;\n    }\n\n    .dataframe thead th {\n        text-align: right;\n    }\n</style>\n<table border=\"1\" class=\"dataframe\">\n  <thead>\n    <tr style=\"text-align: right;\">\n      <th></th>\n      <th>Salary</th>\n    </tr>\n    <tr>\n      <th>Player</th>\n      <th></th>\n    </tr>\n  </thead>\n  <tbody>\n    <tr>\n      <th>Stephen Curry\\curryst01</th>\n      <td>43006362</td>\n    </tr>\n    <tr>\n      <th>Russell Westbrook\\westbru01</th>\n      <td>41358814</td>\n    </tr>\n    <tr>\n      <th>Chris Paul\\paulch01</th>\n      <td>41358814</td>\n    </tr>\n    <tr>\n      <th>John Wall\\walljo01</th>\n      <td>41254920</td>\n    </tr>\n    <tr>\n      <th>James Harden\\hardeja01</th>\n      <td>40824000</td>\n    </tr>\n    <tr>\n      <th>...</th>\n      <td>...</td>\n    </tr>\n    <tr>\n      <th>Wayne Ellington\\ellinwa01</th>\n      <td>440472</td>\n    </tr>\n    <tr>\n      <th>A.J. Hammons\\hammoaj01</th>\n      <td>350087</td>\n    </tr>\n    <tr>\n      <th>Rayjon Tucker\\tuckera01</th>\n      <td>340000</td>\n    </tr>\n    <tr>\n      <th>Troy Williams\\willitr02</th>\n      <td>122741</td>\n    </tr>\n    <tr>\n      <th>Demetrius Jackson\\jacksde01</th>\n      <td>92857</td>\n    </tr>\n  </tbody>\n</table>\n<p>477 rows × 1 columns</p>\n</div>"
     },
     "execution_count": 14,
     "metadata": {},
     "output_type": "execute_result"
    }
   ],
   "metadata": {}
  },
  {
   "cell_type": "code",
   "source": [
    "michael = pd.read_csv('import/michael.csv')\n",
    "michael"
   ],
   "execution_count": 15,
   "outputs": [
    {
     "data": {
      "text/plain": "    Season  Age   Tm   Lg Pos   G  GS    MP    FG   FGA  ...    FT%  ORB  DRB  \\\n0  1994-95   31  CHI  NBA  SG  17  17  39.3   9.8  23.8  ...  0.801  1.5  5.4   \n1  1995-96   32  CHI  NBA  SG  82  82  37.7  11.2  22.6  ...  0.834  1.8  4.8   \n2  1996-97   33  CHI  NBA  SG  82  82  37.9  11.2  23.1  ...  0.833  1.4  4.5   \n3  1997-98   34  CHI  NBA  SG  82  82  38.8  10.7  23.1  ...  0.784  1.6  4.2   \n\n   TRB  AST  STL  BLK  TOV   PF   PTS  \n0  6.9  5.3  1.8  0.8  2.1  2.8  26.9  \n1  6.6  4.3  2.2  0.5  2.4  2.4  30.4  \n2  5.9  4.3  1.7  0.5  2.0  1.9  29.6  \n3  5.8  3.5  1.7  0.5  2.3  1.8  28.7  \n\n[4 rows x 30 columns]",
      "text/html": "<div>\n<style scoped>\n    .dataframe tbody tr th:only-of-type {\n        vertical-align: middle;\n    }\n\n    .dataframe tbody tr th {\n        vertical-align: top;\n    }\n\n    .dataframe thead th {\n        text-align: right;\n    }\n</style>\n<table border=\"1\" class=\"dataframe\">\n  <thead>\n    <tr style=\"text-align: right;\">\n      <th></th>\n      <th>Season</th>\n      <th>Age</th>\n      <th>Tm</th>\n      <th>Lg</th>\n      <th>Pos</th>\n      <th>G</th>\n      <th>GS</th>\n      <th>MP</th>\n      <th>FG</th>\n      <th>FGA</th>\n      <th>...</th>\n      <th>FT%</th>\n      <th>ORB</th>\n      <th>DRB</th>\n      <th>TRB</th>\n      <th>AST</th>\n      <th>STL</th>\n      <th>BLK</th>\n      <th>TOV</th>\n      <th>PF</th>\n      <th>PTS</th>\n    </tr>\n  </thead>\n  <tbody>\n    <tr>\n      <th>0</th>\n      <td>1994-95</td>\n      <td>31</td>\n      <td>CHI</td>\n      <td>NBA</td>\n      <td>SG</td>\n      <td>17</td>\n      <td>17</td>\n      <td>39.3</td>\n      <td>9.8</td>\n      <td>23.8</td>\n      <td>...</td>\n      <td>0.801</td>\n      <td>1.5</td>\n      <td>5.4</td>\n      <td>6.9</td>\n      <td>5.3</td>\n      <td>1.8</td>\n      <td>0.8</td>\n      <td>2.1</td>\n      <td>2.8</td>\n      <td>26.9</td>\n    </tr>\n    <tr>\n      <th>1</th>\n      <td>1995-96</td>\n      <td>32</td>\n      <td>CHI</td>\n      <td>NBA</td>\n      <td>SG</td>\n      <td>82</td>\n      <td>82</td>\n      <td>37.7</td>\n      <td>11.2</td>\n      <td>22.6</td>\n      <td>...</td>\n      <td>0.834</td>\n      <td>1.8</td>\n      <td>4.8</td>\n      <td>6.6</td>\n      <td>4.3</td>\n      <td>2.2</td>\n      <td>0.5</td>\n      <td>2.4</td>\n      <td>2.4</td>\n      <td>30.4</td>\n    </tr>\n    <tr>\n      <th>2</th>\n      <td>1996-97</td>\n      <td>33</td>\n      <td>CHI</td>\n      <td>NBA</td>\n      <td>SG</td>\n      <td>82</td>\n      <td>82</td>\n      <td>37.9</td>\n      <td>11.2</td>\n      <td>23.1</td>\n      <td>...</td>\n      <td>0.833</td>\n      <td>1.4</td>\n      <td>4.5</td>\n      <td>5.9</td>\n      <td>4.3</td>\n      <td>1.7</td>\n      <td>0.5</td>\n      <td>2.0</td>\n      <td>1.9</td>\n      <td>29.6</td>\n    </tr>\n    <tr>\n      <th>3</th>\n      <td>1997-98</td>\n      <td>34</td>\n      <td>CHI</td>\n      <td>NBA</td>\n      <td>SG</td>\n      <td>82</td>\n      <td>82</td>\n      <td>38.8</td>\n      <td>10.7</td>\n      <td>23.1</td>\n      <td>...</td>\n      <td>0.784</td>\n      <td>1.6</td>\n      <td>4.2</td>\n      <td>5.8</td>\n      <td>3.5</td>\n      <td>1.7</td>\n      <td>0.5</td>\n      <td>2.3</td>\n      <td>1.8</td>\n      <td>28.7</td>\n    </tr>\n  </tbody>\n</table>\n<p>4 rows × 30 columns</p>\n</div>"
     },
     "execution_count": 15,
     "metadata": {},
     "output_type": "execute_result"
    }
   ],
   "metadata": {}
  },
  {
   "cell_type": "code",
   "source": [
    "michael['Player'] = 'Michael Jordan'\n",
    "michael = michael.drop(['Season', 'Age', 'Tm', 'Lg'], axis=1)\n",
    "\n",
    "lbls = '_16', '_17', '_18', '_19'\n",
    "for (index, row), lbl in zip(michael.iterrows(), lbls):\n",
    "    print(row)\n",
    "michael"
   ],
   "execution_count": 16,
   "outputs": [
    {
     "name": "stdout",
     "output_type": "stream",
     "text": [
      "Pos                   SG\n",
      "G                     17\n",
      "GS                    17\n",
      "MP                  39.3\n",
      "FG                   9.8\n",
      "FGA                 23.8\n",
      "FG%                0.411\n",
      "3P                   0.9\n",
      "3PA                  1.9\n",
      "3P%                  0.5\n",
      "2P                   8.8\n",
      "2PA                 21.9\n",
      "2P%                0.403\n",
      "eFG%               0.431\n",
      "FT                   6.4\n",
      "FTA                    8\n",
      "FT%                0.801\n",
      "ORB                  1.5\n",
      "DRB                  5.4\n",
      "TRB                  6.9\n",
      "AST                  5.3\n",
      "STL                  1.8\n",
      "BLK                  0.8\n",
      "TOV                  2.1\n",
      "PF                   2.8\n",
      "PTS                 26.9\n",
      "Player    Michael Jordan\n",
      "Name: 0, dtype: object\n",
      "Pos                   SG\n",
      "G                     82\n",
      "GS                    82\n",
      "MP                  37.7\n",
      "FG                  11.2\n",
      "FGA                 22.6\n",
      "FG%                0.495\n",
      "3P                   1.4\n",
      "3PA                  3.2\n",
      "3P%                0.427\n",
      "2P                   9.8\n",
      "2PA                 19.4\n",
      "2P%                0.506\n",
      "eFG%               0.525\n",
      "FT                   6.7\n",
      "FTA                    8\n",
      "FT%                0.834\n",
      "ORB                  1.8\n",
      "DRB                  4.8\n",
      "TRB                  6.6\n",
      "AST                  4.3\n",
      "STL                  2.2\n",
      "BLK                  0.5\n",
      "TOV                  2.4\n",
      "PF                   2.4\n",
      "PTS                 30.4\n",
      "Player    Michael Jordan\n",
      "Name: 1, dtype: object\n",
      "Pos                   SG\n",
      "G                     82\n",
      "GS                    82\n",
      "MP                  37.9\n",
      "FG                  11.2\n",
      "FGA                 23.1\n",
      "FG%                0.486\n",
      "3P                   1.4\n",
      "3PA                  3.6\n",
      "3P%                0.374\n",
      "2P                   9.9\n",
      "2PA                 19.5\n",
      "2P%                0.507\n",
      "eFG%               0.516\n",
      "FT                   5.9\n",
      "FTA                    7\n",
      "FT%                0.833\n",
      "ORB                  1.4\n",
      "DRB                  4.5\n",
      "TRB                  5.9\n",
      "AST                  4.3\n",
      "STL                  1.7\n",
      "BLK                  0.5\n",
      "TOV                    2\n",
      "PF                   1.9\n",
      "PTS                 29.6\n",
      "Player    Michael Jordan\n",
      "Name: 2, dtype: object\n",
      "Pos                   SG\n",
      "G                     82\n",
      "GS                    82\n",
      "MP                  38.8\n",
      "FG                  10.7\n",
      "FGA                 23.1\n",
      "FG%                0.465\n",
      "3P                   0.4\n",
      "3PA                  1.5\n",
      "3P%                0.238\n",
      "2P                  10.4\n",
      "2PA                 21.5\n",
      "2P%                0.482\n",
      "eFG%               0.473\n",
      "FT                   6.9\n",
      "FTA                  8.8\n",
      "FT%                0.784\n",
      "ORB                  1.6\n",
      "DRB                  4.2\n",
      "TRB                  5.8\n",
      "AST                  3.5\n",
      "STL                  1.7\n",
      "BLK                  0.5\n",
      "TOV                  2.3\n",
      "PF                   1.8\n",
      "PTS                 28.7\n",
      "Player    Michael Jordan\n",
      "Name: 3, dtype: object\n"
     ]
    },
    {
     "data": {
      "text/plain": "  Pos   G  GS    MP    FG   FGA    FG%   3P  3PA    3P%  ...  ORB  DRB  TRB  \\\n0  SG  17  17  39.3   9.8  23.8  0.411  0.9  1.9  0.500  ...  1.5  5.4  6.9   \n1  SG  82  82  37.7  11.2  22.6  0.495  1.4  3.2  0.427  ...  1.8  4.8  6.6   \n2  SG  82  82  37.9  11.2  23.1  0.486  1.4  3.6  0.374  ...  1.4  4.5  5.9   \n3  SG  82  82  38.8  10.7  23.1  0.465  0.4  1.5  0.238  ...  1.6  4.2  5.8   \n\n   AST  STL  BLK  TOV   PF   PTS          Player  \n0  5.3  1.8  0.8  2.1  2.8  26.9  Michael Jordan  \n1  4.3  2.2  0.5  2.4  2.4  30.4  Michael Jordan  \n2  4.3  1.7  0.5  2.0  1.9  29.6  Michael Jordan  \n3  3.5  1.7  0.5  2.3  1.8  28.7  Michael Jordan  \n\n[4 rows x 27 columns]",
      "text/html": "<div>\n<style scoped>\n    .dataframe tbody tr th:only-of-type {\n        vertical-align: middle;\n    }\n\n    .dataframe tbody tr th {\n        vertical-align: top;\n    }\n\n    .dataframe thead th {\n        text-align: right;\n    }\n</style>\n<table border=\"1\" class=\"dataframe\">\n  <thead>\n    <tr style=\"text-align: right;\">\n      <th></th>\n      <th>Pos</th>\n      <th>G</th>\n      <th>GS</th>\n      <th>MP</th>\n      <th>FG</th>\n      <th>FGA</th>\n      <th>FG%</th>\n      <th>3P</th>\n      <th>3PA</th>\n      <th>3P%</th>\n      <th>...</th>\n      <th>ORB</th>\n      <th>DRB</th>\n      <th>TRB</th>\n      <th>AST</th>\n      <th>STL</th>\n      <th>BLK</th>\n      <th>TOV</th>\n      <th>PF</th>\n      <th>PTS</th>\n      <th>Player</th>\n    </tr>\n  </thead>\n  <tbody>\n    <tr>\n      <th>0</th>\n      <td>SG</td>\n      <td>17</td>\n      <td>17</td>\n      <td>39.3</td>\n      <td>9.8</td>\n      <td>23.8</td>\n      <td>0.411</td>\n      <td>0.9</td>\n      <td>1.9</td>\n      <td>0.500</td>\n      <td>...</td>\n      <td>1.5</td>\n      <td>5.4</td>\n      <td>6.9</td>\n      <td>5.3</td>\n      <td>1.8</td>\n      <td>0.8</td>\n      <td>2.1</td>\n      <td>2.8</td>\n      <td>26.9</td>\n      <td>Michael Jordan</td>\n    </tr>\n    <tr>\n      <th>1</th>\n      <td>SG</td>\n      <td>82</td>\n      <td>82</td>\n      <td>37.7</td>\n      <td>11.2</td>\n      <td>22.6</td>\n      <td>0.495</td>\n      <td>1.4</td>\n      <td>3.2</td>\n      <td>0.427</td>\n      <td>...</td>\n      <td>1.8</td>\n      <td>4.8</td>\n      <td>6.6</td>\n      <td>4.3</td>\n      <td>2.2</td>\n      <td>0.5</td>\n      <td>2.4</td>\n      <td>2.4</td>\n      <td>30.4</td>\n      <td>Michael Jordan</td>\n    </tr>\n    <tr>\n      <th>2</th>\n      <td>SG</td>\n      <td>82</td>\n      <td>82</td>\n      <td>37.9</td>\n      <td>11.2</td>\n      <td>23.1</td>\n      <td>0.486</td>\n      <td>1.4</td>\n      <td>3.6</td>\n      <td>0.374</td>\n      <td>...</td>\n      <td>1.4</td>\n      <td>4.5</td>\n      <td>5.9</td>\n      <td>4.3</td>\n      <td>1.7</td>\n      <td>0.5</td>\n      <td>2.0</td>\n      <td>1.9</td>\n      <td>29.6</td>\n      <td>Michael Jordan</td>\n    </tr>\n    <tr>\n      <th>3</th>\n      <td>SG</td>\n      <td>82</td>\n      <td>82</td>\n      <td>38.8</td>\n      <td>10.7</td>\n      <td>23.1</td>\n      <td>0.465</td>\n      <td>0.4</td>\n      <td>1.5</td>\n      <td>0.238</td>\n      <td>...</td>\n      <td>1.6</td>\n      <td>4.2</td>\n      <td>5.8</td>\n      <td>3.5</td>\n      <td>1.7</td>\n      <td>0.5</td>\n      <td>2.3</td>\n      <td>1.8</td>\n      <td>28.7</td>\n      <td>Michael Jordan</td>\n    </tr>\n  </tbody>\n</table>\n<p>4 rows × 27 columns</p>\n</div>"
     },
     "execution_count": 16,
     "metadata": {},
     "output_type": "execute_result"
    }
   ],
   "metadata": {}
  },
  {
   "cell_type": "code",
   "source": [
    "one_season = salary.join(info).join(stats19)\n",
    "one_season.fillna(0, inplace=True)\n",
    "\n",
    "one_season"
   ],
   "execution_count": 17,
   "outputs": [
    {
     "data": {
      "text/plain": "                               Salary Pos   Age  G_19  GS_19  MP_19  FG_19  \\\nPlayer                                                                       \nStephen Curry\\curryst01      43006362  PG  31.0   5.0    5.0   27.8    6.6   \nRussell Westbrook\\westbru01  41358814  PG  31.0  57.0   57.0   35.9   10.6   \nChris Paul\\paulch01          41358814  PG  34.0  70.0   70.0   31.5    6.2   \nJohn Wall\\walljo01           41254920  PG  29.0   0.0    0.0    0.0    0.0   \nJames Harden\\hardeja01       40824000  SG  30.0  68.0   68.0   36.5    9.9   \n...                               ...  ..   ...   ...    ...    ...    ...   \nWayne Ellington\\ellinwa01      440472  SG  32.0  36.0    1.0   15.5    1.7   \nA.J. Hammons\\hammoaj01         350087   C   0.0   0.0    0.0    0.0    0.0   \nRayjon Tucker\\tuckera01        340000  SG  22.0  20.0    0.0    8.1    1.0   \nTroy Williams\\willitr02        122741  SF  25.0   0.0    0.0    0.0    0.0   \nDemetrius Jackson\\jacksde01     92857  PG  25.0   0.0    0.0    0.0    0.0   \n\n                             FGA_19  FG%_19  3P_19  ...  FT%_19  ORB_19  \\\nPlayer                                              ...                   \nStephen Curry\\curryst01        16.4   0.402    2.4  ...   1.000     0.8   \nRussell Westbrook\\westbru01    22.5   0.472    1.0  ...   0.763     1.8   \nChris Paul\\paulch01            12.7   0.489    1.6  ...   0.907     0.4   \nJohn Wall\\walljo01              0.0   0.000    0.0  ...   0.000     0.0   \nJames Harden\\hardeja01         22.3   0.444    4.4  ...   0.865     1.0   \n...                             ...     ...    ...  ...     ...     ...   \nWayne Ellington\\ellinwa01       4.8   0.351    1.4  ...   0.846     0.1   \nA.J. Hammons\\hammoaj01          0.0   0.000    0.0  ...   0.000     0.0   \nRayjon Tucker\\tuckera01         2.2   0.465    0.2  ...   0.826     0.2   \nTroy Williams\\willitr02         0.0   0.000    0.0  ...   0.000     0.0   \nDemetrius Jackson\\jacksde01     0.0   0.000    0.0  ...   0.000     0.0   \n\n                             DRB_19  TRB_19  AST_19  STL_19  BLK_19  TOV_19  \\\nPlayer                                                                        \nStephen Curry\\curryst01         4.4     5.2     6.6     1.0     0.4     3.2   \nRussell Westbrook\\westbru01     6.2     7.9     7.0     1.6     0.4     4.5   \nChris Paul\\paulch01             4.6     5.0     6.7     1.6     0.2     2.3   \nJohn Wall\\walljo01              0.0     0.0     0.0     0.0     0.0     0.0   \nJames Harden\\hardeja01          5.5     6.6     7.5     1.8     0.9     4.5   \n...                             ...     ...     ...     ...     ...     ...   \nWayne Ellington\\ellinwa01       1.7     1.8     1.2     0.4     0.1     0.5   \nA.J. Hammons\\hammoaj01          0.0     0.0     0.0     0.0     0.0     0.0   \nRayjon Tucker\\tuckera01         0.9     1.0     0.3     0.1     0.1     0.4   \nTroy Williams\\willitr02         0.0     0.0     0.0     0.0     0.0     0.0   \nDemetrius Jackson\\jacksde01     0.0     0.0     0.0     0.0     0.0     0.0   \n\n                             PF_19  PTS_19  \nPlayer                                      \nStephen Curry\\curryst01        2.2    20.8  \nRussell Westbrook\\westbru01    3.5    27.2  \nChris Paul\\paulch01            2.3    17.6  \nJohn Wall\\walljo01             0.0     0.0  \nJames Harden\\hardeja01         3.3    34.3  \n...                            ...     ...  \nWayne Ellington\\ellinwa01      1.1     5.1  \nA.J. Hammons\\hammoaj01         0.0     0.0  \nRayjon Tucker\\tuckera01        0.5     3.1  \nTroy Williams\\willitr02        0.0     0.0  \nDemetrius Jackson\\jacksde01    0.0     0.0  \n\n[477 rows x 28 columns]",
      "text/html": "<div>\n<style scoped>\n    .dataframe tbody tr th:only-of-type {\n        vertical-align: middle;\n    }\n\n    .dataframe tbody tr th {\n        vertical-align: top;\n    }\n\n    .dataframe thead th {\n        text-align: right;\n    }\n</style>\n<table border=\"1\" class=\"dataframe\">\n  <thead>\n    <tr style=\"text-align: right;\">\n      <th></th>\n      <th>Salary</th>\n      <th>Pos</th>\n      <th>Age</th>\n      <th>G_19</th>\n      <th>GS_19</th>\n      <th>MP_19</th>\n      <th>FG_19</th>\n      <th>FGA_19</th>\n      <th>FG%_19</th>\n      <th>3P_19</th>\n      <th>...</th>\n      <th>FT%_19</th>\n      <th>ORB_19</th>\n      <th>DRB_19</th>\n      <th>TRB_19</th>\n      <th>AST_19</th>\n      <th>STL_19</th>\n      <th>BLK_19</th>\n      <th>TOV_19</th>\n      <th>PF_19</th>\n      <th>PTS_19</th>\n    </tr>\n    <tr>\n      <th>Player</th>\n      <th></th>\n      <th></th>\n      <th></th>\n      <th></th>\n      <th></th>\n      <th></th>\n      <th></th>\n      <th></th>\n      <th></th>\n      <th></th>\n      <th></th>\n      <th></th>\n      <th></th>\n      <th></th>\n      <th></th>\n      <th></th>\n      <th></th>\n      <th></th>\n      <th></th>\n      <th></th>\n      <th></th>\n    </tr>\n  </thead>\n  <tbody>\n    <tr>\n      <th>Stephen Curry\\curryst01</th>\n      <td>43006362</td>\n      <td>PG</td>\n      <td>31.0</td>\n      <td>5.0</td>\n      <td>5.0</td>\n      <td>27.8</td>\n      <td>6.6</td>\n      <td>16.4</td>\n      <td>0.402</td>\n      <td>2.4</td>\n      <td>...</td>\n      <td>1.000</td>\n      <td>0.8</td>\n      <td>4.4</td>\n      <td>5.2</td>\n      <td>6.6</td>\n      <td>1.0</td>\n      <td>0.4</td>\n      <td>3.2</td>\n      <td>2.2</td>\n      <td>20.8</td>\n    </tr>\n    <tr>\n      <th>Russell Westbrook\\westbru01</th>\n      <td>41358814</td>\n      <td>PG</td>\n      <td>31.0</td>\n      <td>57.0</td>\n      <td>57.0</td>\n      <td>35.9</td>\n      <td>10.6</td>\n      <td>22.5</td>\n      <td>0.472</td>\n      <td>1.0</td>\n      <td>...</td>\n      <td>0.763</td>\n      <td>1.8</td>\n      <td>6.2</td>\n      <td>7.9</td>\n      <td>7.0</td>\n      <td>1.6</td>\n      <td>0.4</td>\n      <td>4.5</td>\n      <td>3.5</td>\n      <td>27.2</td>\n    </tr>\n    <tr>\n      <th>Chris Paul\\paulch01</th>\n      <td>41358814</td>\n      <td>PG</td>\n      <td>34.0</td>\n      <td>70.0</td>\n      <td>70.0</td>\n      <td>31.5</td>\n      <td>6.2</td>\n      <td>12.7</td>\n      <td>0.489</td>\n      <td>1.6</td>\n      <td>...</td>\n      <td>0.907</td>\n      <td>0.4</td>\n      <td>4.6</td>\n      <td>5.0</td>\n      <td>6.7</td>\n      <td>1.6</td>\n      <td>0.2</td>\n      <td>2.3</td>\n      <td>2.3</td>\n      <td>17.6</td>\n    </tr>\n    <tr>\n      <th>John Wall\\walljo01</th>\n      <td>41254920</td>\n      <td>PG</td>\n      <td>29.0</td>\n      <td>0.0</td>\n      <td>0.0</td>\n      <td>0.0</td>\n      <td>0.0</td>\n      <td>0.0</td>\n      <td>0.000</td>\n      <td>0.0</td>\n      <td>...</td>\n      <td>0.000</td>\n      <td>0.0</td>\n      <td>0.0</td>\n      <td>0.0</td>\n      <td>0.0</td>\n      <td>0.0</td>\n      <td>0.0</td>\n      <td>0.0</td>\n      <td>0.0</td>\n      <td>0.0</td>\n    </tr>\n    <tr>\n      <th>James Harden\\hardeja01</th>\n      <td>40824000</td>\n      <td>SG</td>\n      <td>30.0</td>\n      <td>68.0</td>\n      <td>68.0</td>\n      <td>36.5</td>\n      <td>9.9</td>\n      <td>22.3</td>\n      <td>0.444</td>\n      <td>4.4</td>\n      <td>...</td>\n      <td>0.865</td>\n      <td>1.0</td>\n      <td>5.5</td>\n      <td>6.6</td>\n      <td>7.5</td>\n      <td>1.8</td>\n      <td>0.9</td>\n      <td>4.5</td>\n      <td>3.3</td>\n      <td>34.3</td>\n    </tr>\n    <tr>\n      <th>...</th>\n      <td>...</td>\n      <td>...</td>\n      <td>...</td>\n      <td>...</td>\n      <td>...</td>\n      <td>...</td>\n      <td>...</td>\n      <td>...</td>\n      <td>...</td>\n      <td>...</td>\n      <td>...</td>\n      <td>...</td>\n      <td>...</td>\n      <td>...</td>\n      <td>...</td>\n      <td>...</td>\n      <td>...</td>\n      <td>...</td>\n      <td>...</td>\n      <td>...</td>\n      <td>...</td>\n    </tr>\n    <tr>\n      <th>Wayne Ellington\\ellinwa01</th>\n      <td>440472</td>\n      <td>SG</td>\n      <td>32.0</td>\n      <td>36.0</td>\n      <td>1.0</td>\n      <td>15.5</td>\n      <td>1.7</td>\n      <td>4.8</td>\n      <td>0.351</td>\n      <td>1.4</td>\n      <td>...</td>\n      <td>0.846</td>\n      <td>0.1</td>\n      <td>1.7</td>\n      <td>1.8</td>\n      <td>1.2</td>\n      <td>0.4</td>\n      <td>0.1</td>\n      <td>0.5</td>\n      <td>1.1</td>\n      <td>5.1</td>\n    </tr>\n    <tr>\n      <th>A.J. Hammons\\hammoaj01</th>\n      <td>350087</td>\n      <td>C</td>\n      <td>0.0</td>\n      <td>0.0</td>\n      <td>0.0</td>\n      <td>0.0</td>\n      <td>0.0</td>\n      <td>0.0</td>\n      <td>0.000</td>\n      <td>0.0</td>\n      <td>...</td>\n      <td>0.000</td>\n      <td>0.0</td>\n      <td>0.0</td>\n      <td>0.0</td>\n      <td>0.0</td>\n      <td>0.0</td>\n      <td>0.0</td>\n      <td>0.0</td>\n      <td>0.0</td>\n      <td>0.0</td>\n    </tr>\n    <tr>\n      <th>Rayjon Tucker\\tuckera01</th>\n      <td>340000</td>\n      <td>SG</td>\n      <td>22.0</td>\n      <td>20.0</td>\n      <td>0.0</td>\n      <td>8.1</td>\n      <td>1.0</td>\n      <td>2.2</td>\n      <td>0.465</td>\n      <td>0.2</td>\n      <td>...</td>\n      <td>0.826</td>\n      <td>0.2</td>\n      <td>0.9</td>\n      <td>1.0</td>\n      <td>0.3</td>\n      <td>0.1</td>\n      <td>0.1</td>\n      <td>0.4</td>\n      <td>0.5</td>\n      <td>3.1</td>\n    </tr>\n    <tr>\n      <th>Troy Williams\\willitr02</th>\n      <td>122741</td>\n      <td>SF</td>\n      <td>25.0</td>\n      <td>0.0</td>\n      <td>0.0</td>\n      <td>0.0</td>\n      <td>0.0</td>\n      <td>0.0</td>\n      <td>0.000</td>\n      <td>0.0</td>\n      <td>...</td>\n      <td>0.000</td>\n      <td>0.0</td>\n      <td>0.0</td>\n      <td>0.0</td>\n      <td>0.0</td>\n      <td>0.0</td>\n      <td>0.0</td>\n      <td>0.0</td>\n      <td>0.0</td>\n      <td>0.0</td>\n    </tr>\n    <tr>\n      <th>Demetrius Jackson\\jacksde01</th>\n      <td>92857</td>\n      <td>PG</td>\n      <td>25.0</td>\n      <td>0.0</td>\n      <td>0.0</td>\n      <td>0.0</td>\n      <td>0.0</td>\n      <td>0.0</td>\n      <td>0.000</td>\n      <td>0.0</td>\n      <td>...</td>\n      <td>0.000</td>\n      <td>0.0</td>\n      <td>0.0</td>\n      <td>0.0</td>\n      <td>0.0</td>\n      <td>0.0</td>\n      <td>0.0</td>\n      <td>0.0</td>\n      <td>0.0</td>\n      <td>0.0</td>\n    </tr>\n  </tbody>\n</table>\n<p>477 rows × 28 columns</p>\n</div>"
     },
     "execution_count": 17,
     "metadata": {},
     "output_type": "execute_result"
    }
   ],
   "metadata": {}
  },
  {
   "cell_type": "code",
   "source": [
    "# убрать новичков\n",
    "one_season = one_season[one_season.Pos != 0]\n",
    "\n",
    "# убрать тех, кто не играл вообще\n",
    "one_season = one_season[one_season.G_19 != 0]\n",
    "\n",
    "one_season"
   ],
   "execution_count": 18,
   "outputs": [
    {
     "data": {
      "text/plain": "                               Salary Pos   Age  G_19  GS_19  MP_19  FG_19  \\\nPlayer                                                                       \nStephen Curry\\curryst01      43006362  PG  31.0   5.0    5.0   27.8    6.6   \nRussell Westbrook\\westbru01  41358814  PG  31.0  57.0   57.0   35.9   10.6   \nChris Paul\\paulch01          41358814  PG  34.0  70.0   70.0   31.5    6.2   \nJames Harden\\hardeja01       40824000  SG  30.0  68.0   68.0   36.5    9.9   \nLeBron James\\jamesle01       39219565  PG  35.0  67.0   67.0   34.6    9.6   \n...                               ...  ..   ...   ...    ...    ...    ...   \nVlatko Čančar\\cancavl01        898310  PF  22.0  14.0    0.0    3.2    0.4   \nKhyri Thomas\\thomakh01         744684  SG  23.0   8.0    0.0    7.6    0.6   \nPatrick Patterson\\pattepa01    737067  PF  30.0  59.0   18.0   13.2    1.6   \nWayne Ellington\\ellinwa01      440472  SG  32.0  36.0    1.0   15.5    1.7   \nRayjon Tucker\\tuckera01        340000  SG  22.0  20.0    0.0    8.1    1.0   \n\n                             FGA_19  FG%_19  3P_19  ...  FT%_19  ORB_19  \\\nPlayer                                              ...                   \nStephen Curry\\curryst01        16.4   0.402    2.4  ...   1.000     0.8   \nRussell Westbrook\\westbru01    22.5   0.472    1.0  ...   0.763     1.8   \nChris Paul\\paulch01            12.7   0.489    1.6  ...   0.907     0.4   \nJames Harden\\hardeja01         22.3   0.444    4.4  ...   0.865     1.0   \nLeBron James\\jamesle01         19.4   0.493    2.2  ...   0.693     1.0   \n...                             ...     ...    ...  ...     ...     ...   \nVlatko Čančar\\cancavl01         1.1   0.400    0.1  ...   1.000     0.4   \nKhyri Thomas\\thomakh01          2.1   0.294    0.6  ...   0.500     0.1   \nPatrick Patterson\\pattepa01     3.9   0.408    1.1  ...   0.814     0.6   \nWayne Ellington\\ellinwa01       4.8   0.351    1.4  ...   0.846     0.1   \nRayjon Tucker\\tuckera01         2.2   0.465    0.2  ...   0.826     0.2   \n\n                             DRB_19  TRB_19  AST_19  STL_19  BLK_19  TOV_19  \\\nPlayer                                                                        \nStephen Curry\\curryst01         4.4     5.2     6.6     1.0     0.4     3.2   \nRussell Westbrook\\westbru01     6.2     7.9     7.0     1.6     0.4     4.5   \nChris Paul\\paulch01             4.6     5.0     6.7     1.6     0.2     2.3   \nJames Harden\\hardeja01          5.5     6.6     7.5     1.8     0.9     4.5   \nLeBron James\\jamesle01          6.9     7.8    10.2     1.2     0.5     3.9   \n...                             ...     ...     ...     ...     ...     ...   \nVlatko Čančar\\cancavl01         0.4     0.7     0.2     0.1     0.1     0.2   \nKhyri Thomas\\thomakh01          0.0     0.1     0.4     0.4     0.0     0.4   \nPatrick Patterson\\pattepa01     2.0     2.6     0.7     0.1     0.1     0.4   \nWayne Ellington\\ellinwa01       1.7     1.8     1.2     0.4     0.1     0.5   \nRayjon Tucker\\tuckera01         0.9     1.0     0.3     0.1     0.1     0.4   \n\n                             PF_19  PTS_19  \nPlayer                                      \nStephen Curry\\curryst01        2.2    20.8  \nRussell Westbrook\\westbru01    3.5    27.2  \nChris Paul\\paulch01            2.3    17.6  \nJames Harden\\hardeja01         3.3    34.3  \nLeBron James\\jamesle01         1.8    25.3  \n...                            ...     ...  \nVlatko Čančar\\cancavl01        0.5     1.2  \nKhyri Thomas\\thomakh01         1.1     2.1  \nPatrick Patterson\\pattepa01    0.9     4.9  \nWayne Ellington\\ellinwa01      1.1     5.1  \nRayjon Tucker\\tuckera01        0.5     3.1  \n\n[406 rows x 28 columns]",
      "text/html": "<div>\n<style scoped>\n    .dataframe tbody tr th:only-of-type {\n        vertical-align: middle;\n    }\n\n    .dataframe tbody tr th {\n        vertical-align: top;\n    }\n\n    .dataframe thead th {\n        text-align: right;\n    }\n</style>\n<table border=\"1\" class=\"dataframe\">\n  <thead>\n    <tr style=\"text-align: right;\">\n      <th></th>\n      <th>Salary</th>\n      <th>Pos</th>\n      <th>Age</th>\n      <th>G_19</th>\n      <th>GS_19</th>\n      <th>MP_19</th>\n      <th>FG_19</th>\n      <th>FGA_19</th>\n      <th>FG%_19</th>\n      <th>3P_19</th>\n      <th>...</th>\n      <th>FT%_19</th>\n      <th>ORB_19</th>\n      <th>DRB_19</th>\n      <th>TRB_19</th>\n      <th>AST_19</th>\n      <th>STL_19</th>\n      <th>BLK_19</th>\n      <th>TOV_19</th>\n      <th>PF_19</th>\n      <th>PTS_19</th>\n    </tr>\n    <tr>\n      <th>Player</th>\n      <th></th>\n      <th></th>\n      <th></th>\n      <th></th>\n      <th></th>\n      <th></th>\n      <th></th>\n      <th></th>\n      <th></th>\n      <th></th>\n      <th></th>\n      <th></th>\n      <th></th>\n      <th></th>\n      <th></th>\n      <th></th>\n      <th></th>\n      <th></th>\n      <th></th>\n      <th></th>\n      <th></th>\n    </tr>\n  </thead>\n  <tbody>\n    <tr>\n      <th>Stephen Curry\\curryst01</th>\n      <td>43006362</td>\n      <td>PG</td>\n      <td>31.0</td>\n      <td>5.0</td>\n      <td>5.0</td>\n      <td>27.8</td>\n      <td>6.6</td>\n      <td>16.4</td>\n      <td>0.402</td>\n      <td>2.4</td>\n      <td>...</td>\n      <td>1.000</td>\n      <td>0.8</td>\n      <td>4.4</td>\n      <td>5.2</td>\n      <td>6.6</td>\n      <td>1.0</td>\n      <td>0.4</td>\n      <td>3.2</td>\n      <td>2.2</td>\n      <td>20.8</td>\n    </tr>\n    <tr>\n      <th>Russell Westbrook\\westbru01</th>\n      <td>41358814</td>\n      <td>PG</td>\n      <td>31.0</td>\n      <td>57.0</td>\n      <td>57.0</td>\n      <td>35.9</td>\n      <td>10.6</td>\n      <td>22.5</td>\n      <td>0.472</td>\n      <td>1.0</td>\n      <td>...</td>\n      <td>0.763</td>\n      <td>1.8</td>\n      <td>6.2</td>\n      <td>7.9</td>\n      <td>7.0</td>\n      <td>1.6</td>\n      <td>0.4</td>\n      <td>4.5</td>\n      <td>3.5</td>\n      <td>27.2</td>\n    </tr>\n    <tr>\n      <th>Chris Paul\\paulch01</th>\n      <td>41358814</td>\n      <td>PG</td>\n      <td>34.0</td>\n      <td>70.0</td>\n      <td>70.0</td>\n      <td>31.5</td>\n      <td>6.2</td>\n      <td>12.7</td>\n      <td>0.489</td>\n      <td>1.6</td>\n      <td>...</td>\n      <td>0.907</td>\n      <td>0.4</td>\n      <td>4.6</td>\n      <td>5.0</td>\n      <td>6.7</td>\n      <td>1.6</td>\n      <td>0.2</td>\n      <td>2.3</td>\n      <td>2.3</td>\n      <td>17.6</td>\n    </tr>\n    <tr>\n      <th>James Harden\\hardeja01</th>\n      <td>40824000</td>\n      <td>SG</td>\n      <td>30.0</td>\n      <td>68.0</td>\n      <td>68.0</td>\n      <td>36.5</td>\n      <td>9.9</td>\n      <td>22.3</td>\n      <td>0.444</td>\n      <td>4.4</td>\n      <td>...</td>\n      <td>0.865</td>\n      <td>1.0</td>\n      <td>5.5</td>\n      <td>6.6</td>\n      <td>7.5</td>\n      <td>1.8</td>\n      <td>0.9</td>\n      <td>4.5</td>\n      <td>3.3</td>\n      <td>34.3</td>\n    </tr>\n    <tr>\n      <th>LeBron James\\jamesle01</th>\n      <td>39219565</td>\n      <td>PG</td>\n      <td>35.0</td>\n      <td>67.0</td>\n      <td>67.0</td>\n      <td>34.6</td>\n      <td>9.6</td>\n      <td>19.4</td>\n      <td>0.493</td>\n      <td>2.2</td>\n      <td>...</td>\n      <td>0.693</td>\n      <td>1.0</td>\n      <td>6.9</td>\n      <td>7.8</td>\n      <td>10.2</td>\n      <td>1.2</td>\n      <td>0.5</td>\n      <td>3.9</td>\n      <td>1.8</td>\n      <td>25.3</td>\n    </tr>\n    <tr>\n      <th>...</th>\n      <td>...</td>\n      <td>...</td>\n      <td>...</td>\n      <td>...</td>\n      <td>...</td>\n      <td>...</td>\n      <td>...</td>\n      <td>...</td>\n      <td>...</td>\n      <td>...</td>\n      <td>...</td>\n      <td>...</td>\n      <td>...</td>\n      <td>...</td>\n      <td>...</td>\n      <td>...</td>\n      <td>...</td>\n      <td>...</td>\n      <td>...</td>\n      <td>...</td>\n      <td>...</td>\n    </tr>\n    <tr>\n      <th>Vlatko Čančar\\cancavl01</th>\n      <td>898310</td>\n      <td>PF</td>\n      <td>22.0</td>\n      <td>14.0</td>\n      <td>0.0</td>\n      <td>3.2</td>\n      <td>0.4</td>\n      <td>1.1</td>\n      <td>0.400</td>\n      <td>0.1</td>\n      <td>...</td>\n      <td>1.000</td>\n      <td>0.4</td>\n      <td>0.4</td>\n      <td>0.7</td>\n      <td>0.2</td>\n      <td>0.1</td>\n      <td>0.1</td>\n      <td>0.2</td>\n      <td>0.5</td>\n      <td>1.2</td>\n    </tr>\n    <tr>\n      <th>Khyri Thomas\\thomakh01</th>\n      <td>744684</td>\n      <td>SG</td>\n      <td>23.0</td>\n      <td>8.0</td>\n      <td>0.0</td>\n      <td>7.6</td>\n      <td>0.6</td>\n      <td>2.1</td>\n      <td>0.294</td>\n      <td>0.6</td>\n      <td>...</td>\n      <td>0.500</td>\n      <td>0.1</td>\n      <td>0.0</td>\n      <td>0.1</td>\n      <td>0.4</td>\n      <td>0.4</td>\n      <td>0.0</td>\n      <td>0.4</td>\n      <td>1.1</td>\n      <td>2.1</td>\n    </tr>\n    <tr>\n      <th>Patrick Patterson\\pattepa01</th>\n      <td>737067</td>\n      <td>PF</td>\n      <td>30.0</td>\n      <td>59.0</td>\n      <td>18.0</td>\n      <td>13.2</td>\n      <td>1.6</td>\n      <td>3.9</td>\n      <td>0.408</td>\n      <td>1.1</td>\n      <td>...</td>\n      <td>0.814</td>\n      <td>0.6</td>\n      <td>2.0</td>\n      <td>2.6</td>\n      <td>0.7</td>\n      <td>0.1</td>\n      <td>0.1</td>\n      <td>0.4</td>\n      <td>0.9</td>\n      <td>4.9</td>\n    </tr>\n    <tr>\n      <th>Wayne Ellington\\ellinwa01</th>\n      <td>440472</td>\n      <td>SG</td>\n      <td>32.0</td>\n      <td>36.0</td>\n      <td>1.0</td>\n      <td>15.5</td>\n      <td>1.7</td>\n      <td>4.8</td>\n      <td>0.351</td>\n      <td>1.4</td>\n      <td>...</td>\n      <td>0.846</td>\n      <td>0.1</td>\n      <td>1.7</td>\n      <td>1.8</td>\n      <td>1.2</td>\n      <td>0.4</td>\n      <td>0.1</td>\n      <td>0.5</td>\n      <td>1.1</td>\n      <td>5.1</td>\n    </tr>\n    <tr>\n      <th>Rayjon Tucker\\tuckera01</th>\n      <td>340000</td>\n      <td>SG</td>\n      <td>22.0</td>\n      <td>20.0</td>\n      <td>0.0</td>\n      <td>8.1</td>\n      <td>1.0</td>\n      <td>2.2</td>\n      <td>0.465</td>\n      <td>0.2</td>\n      <td>...</td>\n      <td>0.826</td>\n      <td>0.2</td>\n      <td>0.9</td>\n      <td>1.0</td>\n      <td>0.3</td>\n      <td>0.1</td>\n      <td>0.1</td>\n      <td>0.4</td>\n      <td>0.5</td>\n      <td>3.1</td>\n    </tr>\n  </tbody>\n</table>\n<p>406 rows × 28 columns</p>\n</div>"
     },
     "execution_count": 18,
     "metadata": {},
     "output_type": "execute_result"
    }
   ],
   "metadata": {}
  },
  {
   "cell_type": "code",
   "source": [
    "one_season.shape"
   ],
   "execution_count": 19,
   "outputs": [
    {
     "data": {
      "text/plain": "(406, 28)"
     },
     "execution_count": 19,
     "metadata": {},
     "output_type": "execute_result"
    }
   ],
   "metadata": {}
  },
  {
   "cell_type": "code",
   "source": [
    "export_file_path = 'export/one_season.csv'\n",
    "one_season.to_csv(export_file_path, header=True)"
   ],
   "execution_count": 20,
   "outputs": [
    {
     "ename": "FileNotFoundError",
     "evalue": "[Errno 2] No such file or directory: 'export/one_season.csv'",
     "output_type": "error",
     "traceback": [
      "\u001B[0;31m---------------------------------------------------------------------------\u001B[0m",
      "\u001B[0;31mFileNotFoundError\u001B[0m                         Traceback (most recent call last)",
      "\u001B[0;32m<ipython-input-20-dfd310c37239>\u001B[0m in \u001B[0;36m<module>\u001B[0;34m\u001B[0m\n\u001B[1;32m      1\u001B[0m \u001B[0mexport_file_path\u001B[0m \u001B[0;34m=\u001B[0m \u001B[0;34m'export/one_season.csv'\u001B[0m\u001B[0;34m\u001B[0m\u001B[0;34m\u001B[0m\u001B[0m\n\u001B[0;32m----> 2\u001B[0;31m \u001B[0mone_season\u001B[0m\u001B[0;34m.\u001B[0m\u001B[0mto_csv\u001B[0m\u001B[0;34m(\u001B[0m\u001B[0mexport_file_path\u001B[0m\u001B[0;34m,\u001B[0m \u001B[0mheader\u001B[0m\u001B[0;34m=\u001B[0m\u001B[0;32mTrue\u001B[0m\u001B[0;34m)\u001B[0m\u001B[0;34m\u001B[0m\u001B[0;34m\u001B[0m\u001B[0m\n\u001B[0m\u001B[1;32m      3\u001B[0m \u001B[0;34m\u001B[0m\u001B[0m\n",
      "\u001B[0;32m~/.local/lib/python3.8/site-packages/pandas/core/generic.py\u001B[0m in \u001B[0;36mto_csv\u001B[0;34m(self, path_or_buf, sep, na_rep, float_format, columns, header, index, index_label, mode, encoding, compression, quoting, quotechar, line_terminator, chunksize, date_format, doublequote, escapechar, decimal, errors)\u001B[0m\n\u001B[1;32m   3168\u001B[0m             \u001B[0mdecimal\u001B[0m\u001B[0;34m=\u001B[0m\u001B[0mdecimal\u001B[0m\u001B[0;34m,\u001B[0m\u001B[0;34m\u001B[0m\u001B[0;34m\u001B[0m\u001B[0m\n\u001B[1;32m   3169\u001B[0m         )\n\u001B[0;32m-> 3170\u001B[0;31m         \u001B[0mformatter\u001B[0m\u001B[0;34m.\u001B[0m\u001B[0msave\u001B[0m\u001B[0;34m(\u001B[0m\u001B[0;34m)\u001B[0m\u001B[0;34m\u001B[0m\u001B[0;34m\u001B[0m\u001B[0m\n\u001B[0m\u001B[1;32m   3171\u001B[0m \u001B[0;34m\u001B[0m\u001B[0m\n\u001B[1;32m   3172\u001B[0m         \u001B[0;32mif\u001B[0m \u001B[0mpath_or_buf\u001B[0m \u001B[0;32mis\u001B[0m \u001B[0;32mNone\u001B[0m\u001B[0;34m:\u001B[0m\u001B[0;34m\u001B[0m\u001B[0;34m\u001B[0m\u001B[0m\n",
      "\u001B[0;32m~/.local/lib/python3.8/site-packages/pandas/io/formats/csvs.py\u001B[0m in \u001B[0;36msave\u001B[0;34m(self)\u001B[0m\n\u001B[1;32m    183\u001B[0m             \u001B[0mclose\u001B[0m \u001B[0;34m=\u001B[0m \u001B[0;32mFalse\u001B[0m\u001B[0;34m\u001B[0m\u001B[0;34m\u001B[0m\u001B[0m\n\u001B[1;32m    184\u001B[0m         \u001B[0;32melse\u001B[0m\u001B[0;34m:\u001B[0m\u001B[0;34m\u001B[0m\u001B[0;34m\u001B[0m\u001B[0m\n\u001B[0;32m--> 185\u001B[0;31m             f, handles = get_handle(\n\u001B[0m\u001B[1;32m    186\u001B[0m                 \u001B[0mself\u001B[0m\u001B[0;34m.\u001B[0m\u001B[0mpath_or_buf\u001B[0m\u001B[0;34m,\u001B[0m\u001B[0;34m\u001B[0m\u001B[0;34m\u001B[0m\u001B[0m\n\u001B[1;32m    187\u001B[0m                 \u001B[0mself\u001B[0m\u001B[0;34m.\u001B[0m\u001B[0mmode\u001B[0m\u001B[0;34m,\u001B[0m\u001B[0;34m\u001B[0m\u001B[0;34m\u001B[0m\u001B[0m\n",
      "\u001B[0;32m~/.local/lib/python3.8/site-packages/pandas/io/common.py\u001B[0m in \u001B[0;36mget_handle\u001B[0;34m(path_or_buf, mode, encoding, compression, memory_map, is_text, errors)\u001B[0m\n\u001B[1;32m    491\u001B[0m         \u001B[0;32mif\u001B[0m \u001B[0mencoding\u001B[0m\u001B[0;34m:\u001B[0m\u001B[0;34m\u001B[0m\u001B[0;34m\u001B[0m\u001B[0m\n\u001B[1;32m    492\u001B[0m             \u001B[0;31m# Encoding\u001B[0m\u001B[0;34m\u001B[0m\u001B[0;34m\u001B[0m\u001B[0;34m\u001B[0m\u001B[0m\n\u001B[0;32m--> 493\u001B[0;31m             \u001B[0mf\u001B[0m \u001B[0;34m=\u001B[0m \u001B[0mopen\u001B[0m\u001B[0;34m(\u001B[0m\u001B[0mpath_or_buf\u001B[0m\u001B[0;34m,\u001B[0m \u001B[0mmode\u001B[0m\u001B[0;34m,\u001B[0m \u001B[0mencoding\u001B[0m\u001B[0;34m=\u001B[0m\u001B[0mencoding\u001B[0m\u001B[0;34m,\u001B[0m \u001B[0merrors\u001B[0m\u001B[0;34m=\u001B[0m\u001B[0merrors\u001B[0m\u001B[0;34m,\u001B[0m \u001B[0mnewline\u001B[0m\u001B[0;34m=\u001B[0m\u001B[0;34m\"\"\u001B[0m\u001B[0;34m)\u001B[0m\u001B[0;34m\u001B[0m\u001B[0;34m\u001B[0m\u001B[0m\n\u001B[0m\u001B[1;32m    494\u001B[0m         \u001B[0;32melif\u001B[0m \u001B[0mis_text\u001B[0m\u001B[0;34m:\u001B[0m\u001B[0;34m\u001B[0m\u001B[0;34m\u001B[0m\u001B[0m\n\u001B[1;32m    495\u001B[0m             \u001B[0;31m# No explicit encoding\u001B[0m\u001B[0;34m\u001B[0m\u001B[0;34m\u001B[0m\u001B[0;34m\u001B[0m\u001B[0m\n",
      "\u001B[0;31mFileNotFoundError\u001B[0m: [Errno 2] No such file or directory: 'export/one_season.csv'"
     ]
    }
   ],
   "metadata": {}
  },
  {
   "cell_type": "code",
   "source": [
    "two_seasons = salary.join(info).join(stats19).join(stats18)\n",
    "two_seasons.fillna(0, inplace=True)\n",
    "\n",
    "# убрать новичков\n",
    "two_seasons = two_seasons[two_seasons.Pos != 0]\n",
    "\n",
    "# убрать тех, кто не играл вообще\n",
    "two_seasons = two_seasons[(two_seasons.G_19 != 0) | (two_seasons.G_18 != 0)]\n",
    "\n",
    "two_seasons"
   ],
   "execution_count": 21,
   "outputs": [
    {
     "data": {
      "text/plain": "                               Salary Pos   Age  G_19  GS_19  MP_19  FG_19  \\\nPlayer                                                                       \nStephen Curry\\curryst01      43006362  PG  31.0   5.0    5.0   27.8    6.6   \nRussell Westbrook\\westbru01  41358814  PG  31.0  57.0   57.0   35.9   10.6   \nChris Paul\\paulch01          41358814  PG  34.0  70.0   70.0   31.5    6.2   \nJohn Wall\\walljo01           41254920  PG  29.0   0.0    0.0    0.0    0.0   \nJames Harden\\hardeja01       40824000  SG  30.0  68.0   68.0   36.5    9.9   \n...                               ...  ..   ...   ...    ...    ...    ...   \nShaun Livingston\\livinsh01     666667  PG  34.0   0.0    0.0    0.0    0.0   \nWayne Ellington\\ellinwa01      440472  SG  32.0  36.0    1.0   15.5    1.7   \nRayjon Tucker\\tuckera01        340000  SG  22.0  20.0    0.0    8.1    1.0   \nTroy Williams\\willitr02        122741  SF  25.0   0.0    0.0    0.0    0.0   \nDemetrius Jackson\\jacksde01     92857  PG  25.0   0.0    0.0    0.0    0.0   \n\n                             FGA_19  FG%_19  3P_19  ...  FT%_18  ORB_18  \\\nPlayer                                              ...                   \nStephen Curry\\curryst01        16.4   0.402    2.4  ...   0.916     0.7   \nRussell Westbrook\\westbru01    22.5   0.472    1.0  ...   0.656     1.5   \nChris Paul\\paulch01            12.7   0.489    1.6  ...   0.862     0.6   \nJohn Wall\\walljo01              0.0   0.000    0.0  ...   0.697     0.5   \nJames Harden\\hardeja01         22.3   0.444    4.4  ...   0.879     0.8   \n...                             ...     ...    ...  ...     ...     ...   \nShaun Livingston\\livinsh01      0.0   0.000    0.0  ...   0.784     0.7   \nWayne Ellington\\ellinwa01       4.8   0.351    1.4  ...   0.796     0.3   \nRayjon Tucker\\tuckera01         2.2   0.465    0.2  ...   0.000     0.0   \nTroy Williams\\willitr02         0.0   0.000    0.0  ...   0.600     0.6   \nDemetrius Jackson\\jacksde01     0.0   0.000    0.0  ...   1.000     0.3   \n\n                             DRB_18  TRB_18  AST_18  STL_18  BLK_18  TOV_18  \\\nPlayer                                                                        \nStephen Curry\\curryst01         4.7     5.3     5.2     1.3     0.4     2.8   \nRussell Westbrook\\westbru01     9.6    11.1    10.7     1.9     0.5     4.5   \nChris Paul\\paulch01             3.9     4.6     8.2     2.0     0.3     2.6   \nJohn Wall\\walljo01              3.2     3.6     8.7     1.5     0.9     3.8   \nJames Harden\\hardeja01          5.8     6.6     7.5     2.0     0.7     5.0   \n...                             ...     ...     ...     ...     ...     ...   \nShaun Livingston\\livinsh01      1.2     1.8     1.8     0.5     0.4     0.6   \nWayne Ellington\\ellinwa01       1.8     2.0     1.4     1.0     0.1     0.8   \nRayjon Tucker\\tuckera01         0.0     0.0     0.0     0.0     0.0     0.0   \nTroy Williams\\willitr02         2.2     2.8     0.5     0.5     0.4     0.4   \nDemetrius Jackson\\jacksde01     0.2     0.5     0.8     0.3     0.0     0.2   \n\n                             PF_18  PTS_18  \nPlayer                                      \nStephen Curry\\curryst01        2.4    27.3  \nRussell Westbrook\\westbru01    3.4    22.9  \nChris Paul\\paulch01            2.5    15.6  \nJohn Wall\\walljo01             2.2    20.7  \nJames Harden\\hardeja01         3.1    36.1  \n...                            ...     ...  \nShaun Livingston\\livinsh01     1.2     4.0  \nWayne Ellington\\ellinwa01      1.7    10.3  \nRayjon Tucker\\tuckera01        0.0     0.0  \nTroy Williams\\willitr02        1.8     5.3  \nDemetrius Jackson\\jacksde01    0.7     3.7  \n\n[419 rows x 53 columns]",
      "text/html": "<div>\n<style scoped>\n    .dataframe tbody tr th:only-of-type {\n        vertical-align: middle;\n    }\n\n    .dataframe tbody tr th {\n        vertical-align: top;\n    }\n\n    .dataframe thead th {\n        text-align: right;\n    }\n</style>\n<table border=\"1\" class=\"dataframe\">\n  <thead>\n    <tr style=\"text-align: right;\">\n      <th></th>\n      <th>Salary</th>\n      <th>Pos</th>\n      <th>Age</th>\n      <th>G_19</th>\n      <th>GS_19</th>\n      <th>MP_19</th>\n      <th>FG_19</th>\n      <th>FGA_19</th>\n      <th>FG%_19</th>\n      <th>3P_19</th>\n      <th>...</th>\n      <th>FT%_18</th>\n      <th>ORB_18</th>\n      <th>DRB_18</th>\n      <th>TRB_18</th>\n      <th>AST_18</th>\n      <th>STL_18</th>\n      <th>BLK_18</th>\n      <th>TOV_18</th>\n      <th>PF_18</th>\n      <th>PTS_18</th>\n    </tr>\n    <tr>\n      <th>Player</th>\n      <th></th>\n      <th></th>\n      <th></th>\n      <th></th>\n      <th></th>\n      <th></th>\n      <th></th>\n      <th></th>\n      <th></th>\n      <th></th>\n      <th></th>\n      <th></th>\n      <th></th>\n      <th></th>\n      <th></th>\n      <th></th>\n      <th></th>\n      <th></th>\n      <th></th>\n      <th></th>\n      <th></th>\n    </tr>\n  </thead>\n  <tbody>\n    <tr>\n      <th>Stephen Curry\\curryst01</th>\n      <td>43006362</td>\n      <td>PG</td>\n      <td>31.0</td>\n      <td>5.0</td>\n      <td>5.0</td>\n      <td>27.8</td>\n      <td>6.6</td>\n      <td>16.4</td>\n      <td>0.402</td>\n      <td>2.4</td>\n      <td>...</td>\n      <td>0.916</td>\n      <td>0.7</td>\n      <td>4.7</td>\n      <td>5.3</td>\n      <td>5.2</td>\n      <td>1.3</td>\n      <td>0.4</td>\n      <td>2.8</td>\n      <td>2.4</td>\n      <td>27.3</td>\n    </tr>\n    <tr>\n      <th>Russell Westbrook\\westbru01</th>\n      <td>41358814</td>\n      <td>PG</td>\n      <td>31.0</td>\n      <td>57.0</td>\n      <td>57.0</td>\n      <td>35.9</td>\n      <td>10.6</td>\n      <td>22.5</td>\n      <td>0.472</td>\n      <td>1.0</td>\n      <td>...</td>\n      <td>0.656</td>\n      <td>1.5</td>\n      <td>9.6</td>\n      <td>11.1</td>\n      <td>10.7</td>\n      <td>1.9</td>\n      <td>0.5</td>\n      <td>4.5</td>\n      <td>3.4</td>\n      <td>22.9</td>\n    </tr>\n    <tr>\n      <th>Chris Paul\\paulch01</th>\n      <td>41358814</td>\n      <td>PG</td>\n      <td>34.0</td>\n      <td>70.0</td>\n      <td>70.0</td>\n      <td>31.5</td>\n      <td>6.2</td>\n      <td>12.7</td>\n      <td>0.489</td>\n      <td>1.6</td>\n      <td>...</td>\n      <td>0.862</td>\n      <td>0.6</td>\n      <td>3.9</td>\n      <td>4.6</td>\n      <td>8.2</td>\n      <td>2.0</td>\n      <td>0.3</td>\n      <td>2.6</td>\n      <td>2.5</td>\n      <td>15.6</td>\n    </tr>\n    <tr>\n      <th>John Wall\\walljo01</th>\n      <td>41254920</td>\n      <td>PG</td>\n      <td>29.0</td>\n      <td>0.0</td>\n      <td>0.0</td>\n      <td>0.0</td>\n      <td>0.0</td>\n      <td>0.0</td>\n      <td>0.000</td>\n      <td>0.0</td>\n      <td>...</td>\n      <td>0.697</td>\n      <td>0.5</td>\n      <td>3.2</td>\n      <td>3.6</td>\n      <td>8.7</td>\n      <td>1.5</td>\n      <td>0.9</td>\n      <td>3.8</td>\n      <td>2.2</td>\n      <td>20.7</td>\n    </tr>\n    <tr>\n      <th>James Harden\\hardeja01</th>\n      <td>40824000</td>\n      <td>SG</td>\n      <td>30.0</td>\n      <td>68.0</td>\n      <td>68.0</td>\n      <td>36.5</td>\n      <td>9.9</td>\n      <td>22.3</td>\n      <td>0.444</td>\n      <td>4.4</td>\n      <td>...</td>\n      <td>0.879</td>\n      <td>0.8</td>\n      <td>5.8</td>\n      <td>6.6</td>\n      <td>7.5</td>\n      <td>2.0</td>\n      <td>0.7</td>\n      <td>5.0</td>\n      <td>3.1</td>\n      <td>36.1</td>\n    </tr>\n    <tr>\n      <th>...</th>\n      <td>...</td>\n      <td>...</td>\n      <td>...</td>\n      <td>...</td>\n      <td>...</td>\n      <td>...</td>\n      <td>...</td>\n      <td>...</td>\n      <td>...</td>\n      <td>...</td>\n      <td>...</td>\n      <td>...</td>\n      <td>...</td>\n      <td>...</td>\n      <td>...</td>\n      <td>...</td>\n      <td>...</td>\n      <td>...</td>\n      <td>...</td>\n      <td>...</td>\n      <td>...</td>\n    </tr>\n    <tr>\n      <th>Shaun Livingston\\livinsh01</th>\n      <td>666667</td>\n      <td>PG</td>\n      <td>34.0</td>\n      <td>0.0</td>\n      <td>0.0</td>\n      <td>0.0</td>\n      <td>0.0</td>\n      <td>0.0</td>\n      <td>0.000</td>\n      <td>0.0</td>\n      <td>...</td>\n      <td>0.784</td>\n      <td>0.7</td>\n      <td>1.2</td>\n      <td>1.8</td>\n      <td>1.8</td>\n      <td>0.5</td>\n      <td>0.4</td>\n      <td>0.6</td>\n      <td>1.2</td>\n      <td>4.0</td>\n    </tr>\n    <tr>\n      <th>Wayne Ellington\\ellinwa01</th>\n      <td>440472</td>\n      <td>SG</td>\n      <td>32.0</td>\n      <td>36.0</td>\n      <td>1.0</td>\n      <td>15.5</td>\n      <td>1.7</td>\n      <td>4.8</td>\n      <td>0.351</td>\n      <td>1.4</td>\n      <td>...</td>\n      <td>0.796</td>\n      <td>0.3</td>\n      <td>1.8</td>\n      <td>2.0</td>\n      <td>1.4</td>\n      <td>1.0</td>\n      <td>0.1</td>\n      <td>0.8</td>\n      <td>1.7</td>\n      <td>10.3</td>\n    </tr>\n    <tr>\n      <th>Rayjon Tucker\\tuckera01</th>\n      <td>340000</td>\n      <td>SG</td>\n      <td>22.0</td>\n      <td>20.0</td>\n      <td>0.0</td>\n      <td>8.1</td>\n      <td>1.0</td>\n      <td>2.2</td>\n      <td>0.465</td>\n      <td>0.2</td>\n      <td>...</td>\n      <td>0.000</td>\n      <td>0.0</td>\n      <td>0.0</td>\n      <td>0.0</td>\n      <td>0.0</td>\n      <td>0.0</td>\n      <td>0.0</td>\n      <td>0.0</td>\n      <td>0.0</td>\n      <td>0.0</td>\n    </tr>\n    <tr>\n      <th>Troy Williams\\willitr02</th>\n      <td>122741</td>\n      <td>SF</td>\n      <td>25.0</td>\n      <td>0.0</td>\n      <td>0.0</td>\n      <td>0.0</td>\n      <td>0.0</td>\n      <td>0.0</td>\n      <td>0.000</td>\n      <td>0.0</td>\n      <td>...</td>\n      <td>0.600</td>\n      <td>0.6</td>\n      <td>2.2</td>\n      <td>2.8</td>\n      <td>0.5</td>\n      <td>0.5</td>\n      <td>0.4</td>\n      <td>0.4</td>\n      <td>1.8</td>\n      <td>5.3</td>\n    </tr>\n    <tr>\n      <th>Demetrius Jackson\\jacksde01</th>\n      <td>92857</td>\n      <td>PG</td>\n      <td>25.0</td>\n      <td>0.0</td>\n      <td>0.0</td>\n      <td>0.0</td>\n      <td>0.0</td>\n      <td>0.0</td>\n      <td>0.000</td>\n      <td>0.0</td>\n      <td>...</td>\n      <td>1.000</td>\n      <td>0.3</td>\n      <td>0.2</td>\n      <td>0.5</td>\n      <td>0.8</td>\n      <td>0.3</td>\n      <td>0.0</td>\n      <td>0.2</td>\n      <td>0.7</td>\n      <td>3.7</td>\n    </tr>\n  </tbody>\n</table>\n<p>419 rows × 53 columns</p>\n</div>"
     },
     "execution_count": 21,
     "metadata": {},
     "output_type": "execute_result"
    }
   ],
   "metadata": {}
  },
  {
   "cell_type": "code",
   "source": [
    "two_seasons.shape"
   ],
   "execution_count": 22,
   "outputs": [
    {
     "data": {
      "text/plain": "(419, 53)"
     },
     "execution_count": 22,
     "metadata": {},
     "output_type": "execute_result"
    }
   ],
   "metadata": {}
  },
  {
   "cell_type": "code",
   "source": [
    "export_file_path = 'export/two_seasons.csv'\n",
    "two_seasons.to_csv(export_file_path, header=True)"
   ],
   "execution_count": 23,
   "outputs": [
    {
     "ename": "FileNotFoundError",
     "evalue": "[Errno 2] No such file or directory: 'export/two_seasons.csv'",
     "output_type": "error",
     "traceback": [
      "\u001B[0;31m---------------------------------------------------------------------------\u001B[0m",
      "\u001B[0;31mFileNotFoundError\u001B[0m                         Traceback (most recent call last)",
      "\u001B[0;32m<ipython-input-23-7187363f6452>\u001B[0m in \u001B[0;36m<module>\u001B[0;34m\u001B[0m\n\u001B[1;32m      1\u001B[0m \u001B[0mexport_file_path\u001B[0m \u001B[0;34m=\u001B[0m \u001B[0;34m'export/two_seasons.csv'\u001B[0m\u001B[0;34m\u001B[0m\u001B[0;34m\u001B[0m\u001B[0m\n\u001B[0;32m----> 2\u001B[0;31m \u001B[0mtwo_seasons\u001B[0m\u001B[0;34m.\u001B[0m\u001B[0mto_csv\u001B[0m\u001B[0;34m(\u001B[0m\u001B[0mexport_file_path\u001B[0m\u001B[0;34m,\u001B[0m \u001B[0mheader\u001B[0m\u001B[0;34m=\u001B[0m\u001B[0;32mTrue\u001B[0m\u001B[0;34m)\u001B[0m\u001B[0;34m\u001B[0m\u001B[0;34m\u001B[0m\u001B[0m\n\u001B[0m\u001B[1;32m      3\u001B[0m \u001B[0;34m\u001B[0m\u001B[0m\n",
      "\u001B[0;32m~/.local/lib/python3.8/site-packages/pandas/core/generic.py\u001B[0m in \u001B[0;36mto_csv\u001B[0;34m(self, path_or_buf, sep, na_rep, float_format, columns, header, index, index_label, mode, encoding, compression, quoting, quotechar, line_terminator, chunksize, date_format, doublequote, escapechar, decimal, errors)\u001B[0m\n\u001B[1;32m   3168\u001B[0m             \u001B[0mdecimal\u001B[0m\u001B[0;34m=\u001B[0m\u001B[0mdecimal\u001B[0m\u001B[0;34m,\u001B[0m\u001B[0;34m\u001B[0m\u001B[0;34m\u001B[0m\u001B[0m\n\u001B[1;32m   3169\u001B[0m         )\n\u001B[0;32m-> 3170\u001B[0;31m         \u001B[0mformatter\u001B[0m\u001B[0;34m.\u001B[0m\u001B[0msave\u001B[0m\u001B[0;34m(\u001B[0m\u001B[0;34m)\u001B[0m\u001B[0;34m\u001B[0m\u001B[0;34m\u001B[0m\u001B[0m\n\u001B[0m\u001B[1;32m   3171\u001B[0m \u001B[0;34m\u001B[0m\u001B[0m\n\u001B[1;32m   3172\u001B[0m         \u001B[0;32mif\u001B[0m \u001B[0mpath_or_buf\u001B[0m \u001B[0;32mis\u001B[0m \u001B[0;32mNone\u001B[0m\u001B[0;34m:\u001B[0m\u001B[0;34m\u001B[0m\u001B[0;34m\u001B[0m\u001B[0m\n",
      "\u001B[0;32m~/.local/lib/python3.8/site-packages/pandas/io/formats/csvs.py\u001B[0m in \u001B[0;36msave\u001B[0;34m(self)\u001B[0m\n\u001B[1;32m    183\u001B[0m             \u001B[0mclose\u001B[0m \u001B[0;34m=\u001B[0m \u001B[0;32mFalse\u001B[0m\u001B[0;34m\u001B[0m\u001B[0;34m\u001B[0m\u001B[0m\n\u001B[1;32m    184\u001B[0m         \u001B[0;32melse\u001B[0m\u001B[0;34m:\u001B[0m\u001B[0;34m\u001B[0m\u001B[0;34m\u001B[0m\u001B[0m\n\u001B[0;32m--> 185\u001B[0;31m             f, handles = get_handle(\n\u001B[0m\u001B[1;32m    186\u001B[0m                 \u001B[0mself\u001B[0m\u001B[0;34m.\u001B[0m\u001B[0mpath_or_buf\u001B[0m\u001B[0;34m,\u001B[0m\u001B[0;34m\u001B[0m\u001B[0;34m\u001B[0m\u001B[0m\n\u001B[1;32m    187\u001B[0m                 \u001B[0mself\u001B[0m\u001B[0;34m.\u001B[0m\u001B[0mmode\u001B[0m\u001B[0;34m,\u001B[0m\u001B[0;34m\u001B[0m\u001B[0;34m\u001B[0m\u001B[0m\n",
      "\u001B[0;32m~/.local/lib/python3.8/site-packages/pandas/io/common.py\u001B[0m in \u001B[0;36mget_handle\u001B[0;34m(path_or_buf, mode, encoding, compression, memory_map, is_text, errors)\u001B[0m\n\u001B[1;32m    491\u001B[0m         \u001B[0;32mif\u001B[0m \u001B[0mencoding\u001B[0m\u001B[0;34m:\u001B[0m\u001B[0;34m\u001B[0m\u001B[0;34m\u001B[0m\u001B[0m\n\u001B[1;32m    492\u001B[0m             \u001B[0;31m# Encoding\u001B[0m\u001B[0;34m\u001B[0m\u001B[0;34m\u001B[0m\u001B[0;34m\u001B[0m\u001B[0m\n\u001B[0;32m--> 493\u001B[0;31m             \u001B[0mf\u001B[0m \u001B[0;34m=\u001B[0m \u001B[0mopen\u001B[0m\u001B[0;34m(\u001B[0m\u001B[0mpath_or_buf\u001B[0m\u001B[0;34m,\u001B[0m \u001B[0mmode\u001B[0m\u001B[0;34m,\u001B[0m \u001B[0mencoding\u001B[0m\u001B[0;34m=\u001B[0m\u001B[0mencoding\u001B[0m\u001B[0;34m,\u001B[0m \u001B[0merrors\u001B[0m\u001B[0;34m=\u001B[0m\u001B[0merrors\u001B[0m\u001B[0;34m,\u001B[0m \u001B[0mnewline\u001B[0m\u001B[0;34m=\u001B[0m\u001B[0;34m\"\"\u001B[0m\u001B[0;34m)\u001B[0m\u001B[0;34m\u001B[0m\u001B[0;34m\u001B[0m\u001B[0m\n\u001B[0m\u001B[1;32m    494\u001B[0m         \u001B[0;32melif\u001B[0m \u001B[0mis_text\u001B[0m\u001B[0;34m:\u001B[0m\u001B[0;34m\u001B[0m\u001B[0;34m\u001B[0m\u001B[0m\n\u001B[1;32m    495\u001B[0m             \u001B[0;31m# No explicit encoding\u001B[0m\u001B[0;34m\u001B[0m\u001B[0;34m\u001B[0m\u001B[0;34m\u001B[0m\u001B[0m\n",
      "\u001B[0;31mFileNotFoundError\u001B[0m: [Errno 2] No such file or directory: 'export/two_seasons.csv'"
     ]
    }
   ],
   "metadata": {}
  },
  {
   "cell_type": "code",
   "source": [
    "three_seasons = salary.join(info).join(stats19).join(stats18).join(stats17)\n",
    "three_seasons.fillna(0, inplace=True)\n",
    "\n",
    "# убрать новичков\n",
    "three_seasons = three_seasons[three_seasons.Pos != 0]\n",
    "\n",
    "# убрать тех, кто не играл вообще\n",
    "three_seasons = three_seasons[(three_seasons.G_19 != 0) | (three_seasons.G_18 != 0) | (three_seasons.G_17 != 0)]\n",
    "\n",
    "three_seasons"
   ],
   "execution_count": 24,
   "outputs": [
    {
     "data": {
      "text/plain": "                               Salary Pos   Age  G_19  GS_19  MP_19  FG_19  \\\nPlayer                                                                       \nStephen Curry\\curryst01      43006362  PG  31.0   5.0    5.0   27.8    6.6   \nRussell Westbrook\\westbru01  41358814  PG  31.0  57.0   57.0   35.9   10.6   \nChris Paul\\paulch01          41358814  PG  34.0  70.0   70.0   31.5    6.2   \nJohn Wall\\walljo01           41254920  PG  29.0   0.0    0.0    0.0    0.0   \nJames Harden\\hardeja01       40824000  SG  30.0  68.0   68.0   36.5    9.9   \n...                               ...  ..   ...   ...    ...    ...    ...   \nDakari Johnson\\johnsda04       459414   C  24.0   0.0    0.0    0.0    0.0   \nWayne Ellington\\ellinwa01      440472  SG  32.0  36.0    1.0   15.5    1.7   \nRayjon Tucker\\tuckera01        340000  SG  22.0  20.0    0.0    8.1    1.0   \nTroy Williams\\willitr02        122741  SF  25.0   0.0    0.0    0.0    0.0   \nDemetrius Jackson\\jacksde01     92857  PG  25.0   0.0    0.0    0.0    0.0   \n\n                             FGA_19  FG%_19  3P_19  ...  FT%_17  ORB_17  \\\nPlayer                                              ...                   \nStephen Curry\\curryst01        16.4   0.402    2.4  ...   0.921     0.7   \nRussell Westbrook\\westbru01    22.5   0.472    1.0  ...   0.737     1.9   \nChris Paul\\paulch01            12.7   0.489    1.6  ...   0.919     0.6   \nJohn Wall\\walljo01              0.0   0.000    0.0  ...   0.726     0.5   \nJames Harden\\hardeja01         22.3   0.444    4.4  ...   0.858     0.6   \n...                             ...     ...    ...  ...     ...     ...   \nDakari Johnson\\johnsda04        0.0   0.000    0.0  ...   0.550     0.5   \nWayne Ellington\\ellinwa01       4.8   0.351    1.4  ...   0.859     0.3   \nRayjon Tucker\\tuckera01         2.2   0.465    0.2  ...   0.000     0.0   \nTroy Williams\\willitr02         0.0   0.000    0.0  ...   0.667     1.0   \nDemetrius Jackson\\jacksde01     0.0   0.000    0.0  ...   0.500     0.3   \n\n                             DRB_17  TRB_17  AST_17  STL_17  BLK_17  TOV_17  \\\nPlayer                                                                        \nStephen Curry\\curryst01         4.4     5.1     6.1     1.6     0.2     3.0   \nRussell Westbrook\\westbru01     8.2    10.1    10.3     1.8     0.3     4.8   \nChris Paul\\paulch01             4.8     5.4     7.9     1.7     0.2     2.2   \nJohn Wall\\walljo01              3.1     3.7     9.6     1.4     1.1     3.9   \nJames Harden\\hardeja01          4.8     5.4     8.8     1.8     0.7     4.4   \n...                             ...     ...     ...     ...     ...     ...   \nDakari Johnson\\johnsda04        0.6     1.1     0.3     0.2     0.3     0.1   \nWayne Ellington\\ellinwa01       2.5     2.8     1.0     0.7     0.1     0.7   \nRayjon Tucker\\tuckera01         0.0     0.0     0.0     0.0     0.0     0.0   \nTroy Williams\\willitr02         2.0     3.0     0.8     1.0     0.2     0.9   \nDemetrius Jackson\\jacksde01     0.5     0.8     0.6     0.3     0.1     0.7   \n\n                             PF_17  PTS_17  \nPlayer                                      \nStephen Curry\\curryst01        2.2    26.4  \nRussell Westbrook\\westbru01    2.5    25.4  \nChris Paul\\paulch01            2.4    18.6  \nJohn Wall\\walljo01             2.0    19.4  \nJames Harden\\hardeja01         2.3    30.4  \n...                            ...     ...  \nDakari Johnson\\johnsda04       0.9     1.8  \nWayne Ellington\\ellinwa01      1.2    11.2  \nRayjon Tucker\\tuckera01        0.0     0.0  \nTroy Williams\\willitr02        1.6     6.3  \nDemetrius Jackson\\jacksde01    0.5     1.1  \n\n[424 rows x 78 columns]",
      "text/html": "<div>\n<style scoped>\n    .dataframe tbody tr th:only-of-type {\n        vertical-align: middle;\n    }\n\n    .dataframe tbody tr th {\n        vertical-align: top;\n    }\n\n    .dataframe thead th {\n        text-align: right;\n    }\n</style>\n<table border=\"1\" class=\"dataframe\">\n  <thead>\n    <tr style=\"text-align: right;\">\n      <th></th>\n      <th>Salary</th>\n      <th>Pos</th>\n      <th>Age</th>\n      <th>G_19</th>\n      <th>GS_19</th>\n      <th>MP_19</th>\n      <th>FG_19</th>\n      <th>FGA_19</th>\n      <th>FG%_19</th>\n      <th>3P_19</th>\n      <th>...</th>\n      <th>FT%_17</th>\n      <th>ORB_17</th>\n      <th>DRB_17</th>\n      <th>TRB_17</th>\n      <th>AST_17</th>\n      <th>STL_17</th>\n      <th>BLK_17</th>\n      <th>TOV_17</th>\n      <th>PF_17</th>\n      <th>PTS_17</th>\n    </tr>\n    <tr>\n      <th>Player</th>\n      <th></th>\n      <th></th>\n      <th></th>\n      <th></th>\n      <th></th>\n      <th></th>\n      <th></th>\n      <th></th>\n      <th></th>\n      <th></th>\n      <th></th>\n      <th></th>\n      <th></th>\n      <th></th>\n      <th></th>\n      <th></th>\n      <th></th>\n      <th></th>\n      <th></th>\n      <th></th>\n      <th></th>\n    </tr>\n  </thead>\n  <tbody>\n    <tr>\n      <th>Stephen Curry\\curryst01</th>\n      <td>43006362</td>\n      <td>PG</td>\n      <td>31.0</td>\n      <td>5.0</td>\n      <td>5.0</td>\n      <td>27.8</td>\n      <td>6.6</td>\n      <td>16.4</td>\n      <td>0.402</td>\n      <td>2.4</td>\n      <td>...</td>\n      <td>0.921</td>\n      <td>0.7</td>\n      <td>4.4</td>\n      <td>5.1</td>\n      <td>6.1</td>\n      <td>1.6</td>\n      <td>0.2</td>\n      <td>3.0</td>\n      <td>2.2</td>\n      <td>26.4</td>\n    </tr>\n    <tr>\n      <th>Russell Westbrook\\westbru01</th>\n      <td>41358814</td>\n      <td>PG</td>\n      <td>31.0</td>\n      <td>57.0</td>\n      <td>57.0</td>\n      <td>35.9</td>\n      <td>10.6</td>\n      <td>22.5</td>\n      <td>0.472</td>\n      <td>1.0</td>\n      <td>...</td>\n      <td>0.737</td>\n      <td>1.9</td>\n      <td>8.2</td>\n      <td>10.1</td>\n      <td>10.3</td>\n      <td>1.8</td>\n      <td>0.3</td>\n      <td>4.8</td>\n      <td>2.5</td>\n      <td>25.4</td>\n    </tr>\n    <tr>\n      <th>Chris Paul\\paulch01</th>\n      <td>41358814</td>\n      <td>PG</td>\n      <td>34.0</td>\n      <td>70.0</td>\n      <td>70.0</td>\n      <td>31.5</td>\n      <td>6.2</td>\n      <td>12.7</td>\n      <td>0.489</td>\n      <td>1.6</td>\n      <td>...</td>\n      <td>0.919</td>\n      <td>0.6</td>\n      <td>4.8</td>\n      <td>5.4</td>\n      <td>7.9</td>\n      <td>1.7</td>\n      <td>0.2</td>\n      <td>2.2</td>\n      <td>2.4</td>\n      <td>18.6</td>\n    </tr>\n    <tr>\n      <th>John Wall\\walljo01</th>\n      <td>41254920</td>\n      <td>PG</td>\n      <td>29.0</td>\n      <td>0.0</td>\n      <td>0.0</td>\n      <td>0.0</td>\n      <td>0.0</td>\n      <td>0.0</td>\n      <td>0.000</td>\n      <td>0.0</td>\n      <td>...</td>\n      <td>0.726</td>\n      <td>0.5</td>\n      <td>3.1</td>\n      <td>3.7</td>\n      <td>9.6</td>\n      <td>1.4</td>\n      <td>1.1</td>\n      <td>3.9</td>\n      <td>2.0</td>\n      <td>19.4</td>\n    </tr>\n    <tr>\n      <th>James Harden\\hardeja01</th>\n      <td>40824000</td>\n      <td>SG</td>\n      <td>30.0</td>\n      <td>68.0</td>\n      <td>68.0</td>\n      <td>36.5</td>\n      <td>9.9</td>\n      <td>22.3</td>\n      <td>0.444</td>\n      <td>4.4</td>\n      <td>...</td>\n      <td>0.858</td>\n      <td>0.6</td>\n      <td>4.8</td>\n      <td>5.4</td>\n      <td>8.8</td>\n      <td>1.8</td>\n      <td>0.7</td>\n      <td>4.4</td>\n      <td>2.3</td>\n      <td>30.4</td>\n    </tr>\n    <tr>\n      <th>...</th>\n      <td>...</td>\n      <td>...</td>\n      <td>...</td>\n      <td>...</td>\n      <td>...</td>\n      <td>...</td>\n      <td>...</td>\n      <td>...</td>\n      <td>...</td>\n      <td>...</td>\n      <td>...</td>\n      <td>...</td>\n      <td>...</td>\n      <td>...</td>\n      <td>...</td>\n      <td>...</td>\n      <td>...</td>\n      <td>...</td>\n      <td>...</td>\n      <td>...</td>\n      <td>...</td>\n    </tr>\n    <tr>\n      <th>Dakari Johnson\\johnsda04</th>\n      <td>459414</td>\n      <td>C</td>\n      <td>24.0</td>\n      <td>0.0</td>\n      <td>0.0</td>\n      <td>0.0</td>\n      <td>0.0</td>\n      <td>0.0</td>\n      <td>0.000</td>\n      <td>0.0</td>\n      <td>...</td>\n      <td>0.550</td>\n      <td>0.5</td>\n      <td>0.6</td>\n      <td>1.1</td>\n      <td>0.3</td>\n      <td>0.2</td>\n      <td>0.3</td>\n      <td>0.1</td>\n      <td>0.9</td>\n      <td>1.8</td>\n    </tr>\n    <tr>\n      <th>Wayne Ellington\\ellinwa01</th>\n      <td>440472</td>\n      <td>SG</td>\n      <td>32.0</td>\n      <td>36.0</td>\n      <td>1.0</td>\n      <td>15.5</td>\n      <td>1.7</td>\n      <td>4.8</td>\n      <td>0.351</td>\n      <td>1.4</td>\n      <td>...</td>\n      <td>0.859</td>\n      <td>0.3</td>\n      <td>2.5</td>\n      <td>2.8</td>\n      <td>1.0</td>\n      <td>0.7</td>\n      <td>0.1</td>\n      <td>0.7</td>\n      <td>1.2</td>\n      <td>11.2</td>\n    </tr>\n    <tr>\n      <th>Rayjon Tucker\\tuckera01</th>\n      <td>340000</td>\n      <td>SG</td>\n      <td>22.0</td>\n      <td>20.0</td>\n      <td>0.0</td>\n      <td>8.1</td>\n      <td>1.0</td>\n      <td>2.2</td>\n      <td>0.465</td>\n      <td>0.2</td>\n      <td>...</td>\n      <td>0.000</td>\n      <td>0.0</td>\n      <td>0.0</td>\n      <td>0.0</td>\n      <td>0.0</td>\n      <td>0.0</td>\n      <td>0.0</td>\n      <td>0.0</td>\n      <td>0.0</td>\n      <td>0.0</td>\n    </tr>\n    <tr>\n      <th>Troy Williams\\willitr02</th>\n      <td>122741</td>\n      <td>SF</td>\n      <td>25.0</td>\n      <td>0.0</td>\n      <td>0.0</td>\n      <td>0.0</td>\n      <td>0.0</td>\n      <td>0.0</td>\n      <td>0.000</td>\n      <td>0.0</td>\n      <td>...</td>\n      <td>0.667</td>\n      <td>1.0</td>\n      <td>2.0</td>\n      <td>3.0</td>\n      <td>0.8</td>\n      <td>1.0</td>\n      <td>0.2</td>\n      <td>0.9</td>\n      <td>1.6</td>\n      <td>6.3</td>\n    </tr>\n    <tr>\n      <th>Demetrius Jackson\\jacksde01</th>\n      <td>92857</td>\n      <td>PG</td>\n      <td>25.0</td>\n      <td>0.0</td>\n      <td>0.0</td>\n      <td>0.0</td>\n      <td>0.0</td>\n      <td>0.0</td>\n      <td>0.000</td>\n      <td>0.0</td>\n      <td>...</td>\n      <td>0.500</td>\n      <td>0.3</td>\n      <td>0.5</td>\n      <td>0.8</td>\n      <td>0.6</td>\n      <td>0.3</td>\n      <td>0.1</td>\n      <td>0.7</td>\n      <td>0.5</td>\n      <td>1.1</td>\n    </tr>\n  </tbody>\n</table>\n<p>424 rows × 78 columns</p>\n</div>"
     },
     "execution_count": 24,
     "metadata": {},
     "output_type": "execute_result"
    }
   ],
   "metadata": {}
  },
  {
   "cell_type": "code",
   "source": [
    "three_seasons.shape"
   ],
   "execution_count": 25,
   "outputs": [
    {
     "data": {
      "text/plain": "(424, 78)"
     },
     "execution_count": 25,
     "metadata": {},
     "output_type": "execute_result"
    }
   ],
   "metadata": {}
  },
  {
   "cell_type": "code",
   "source": [
    "export_file_path = 'export/three_seasons.csv'\n",
    "three_seasons.to_csv(export_file_path, header=True)"
   ],
   "execution_count": 26,
   "outputs": [
    {
     "ename": "FileNotFoundError",
     "evalue": "[Errno 2] No such file or directory: 'export/three_seasons.csv'",
     "output_type": "error",
     "traceback": [
      "\u001B[0;31m---------------------------------------------------------------------------\u001B[0m",
      "\u001B[0;31mFileNotFoundError\u001B[0m                         Traceback (most recent call last)",
      "\u001B[0;32m<ipython-input-26-3e774636ba0f>\u001B[0m in \u001B[0;36m<module>\u001B[0;34m\u001B[0m\n\u001B[1;32m      1\u001B[0m \u001B[0mexport_file_path\u001B[0m \u001B[0;34m=\u001B[0m \u001B[0;34m'export/three_seasons.csv'\u001B[0m\u001B[0;34m\u001B[0m\u001B[0;34m\u001B[0m\u001B[0m\n\u001B[0;32m----> 2\u001B[0;31m \u001B[0mthree_seasons\u001B[0m\u001B[0;34m.\u001B[0m\u001B[0mto_csv\u001B[0m\u001B[0;34m(\u001B[0m\u001B[0mexport_file_path\u001B[0m\u001B[0;34m,\u001B[0m \u001B[0mheader\u001B[0m\u001B[0;34m=\u001B[0m\u001B[0;32mTrue\u001B[0m\u001B[0;34m)\u001B[0m\u001B[0;34m\u001B[0m\u001B[0;34m\u001B[0m\u001B[0m\n\u001B[0m\u001B[1;32m      3\u001B[0m \u001B[0;34m\u001B[0m\u001B[0m\n",
      "\u001B[0;32m~/.local/lib/python3.8/site-packages/pandas/core/generic.py\u001B[0m in \u001B[0;36mto_csv\u001B[0;34m(self, path_or_buf, sep, na_rep, float_format, columns, header, index, index_label, mode, encoding, compression, quoting, quotechar, line_terminator, chunksize, date_format, doublequote, escapechar, decimal, errors)\u001B[0m\n\u001B[1;32m   3168\u001B[0m             \u001B[0mdecimal\u001B[0m\u001B[0;34m=\u001B[0m\u001B[0mdecimal\u001B[0m\u001B[0;34m,\u001B[0m\u001B[0;34m\u001B[0m\u001B[0;34m\u001B[0m\u001B[0m\n\u001B[1;32m   3169\u001B[0m         )\n\u001B[0;32m-> 3170\u001B[0;31m         \u001B[0mformatter\u001B[0m\u001B[0;34m.\u001B[0m\u001B[0msave\u001B[0m\u001B[0;34m(\u001B[0m\u001B[0;34m)\u001B[0m\u001B[0;34m\u001B[0m\u001B[0;34m\u001B[0m\u001B[0m\n\u001B[0m\u001B[1;32m   3171\u001B[0m \u001B[0;34m\u001B[0m\u001B[0m\n\u001B[1;32m   3172\u001B[0m         \u001B[0;32mif\u001B[0m \u001B[0mpath_or_buf\u001B[0m \u001B[0;32mis\u001B[0m \u001B[0;32mNone\u001B[0m\u001B[0;34m:\u001B[0m\u001B[0;34m\u001B[0m\u001B[0;34m\u001B[0m\u001B[0m\n",
      "\u001B[0;32m~/.local/lib/python3.8/site-packages/pandas/io/formats/csvs.py\u001B[0m in \u001B[0;36msave\u001B[0;34m(self)\u001B[0m\n\u001B[1;32m    183\u001B[0m             \u001B[0mclose\u001B[0m \u001B[0;34m=\u001B[0m \u001B[0;32mFalse\u001B[0m\u001B[0;34m\u001B[0m\u001B[0;34m\u001B[0m\u001B[0m\n\u001B[1;32m    184\u001B[0m         \u001B[0;32melse\u001B[0m\u001B[0;34m:\u001B[0m\u001B[0;34m\u001B[0m\u001B[0;34m\u001B[0m\u001B[0m\n\u001B[0;32m--> 185\u001B[0;31m             f, handles = get_handle(\n\u001B[0m\u001B[1;32m    186\u001B[0m                 \u001B[0mself\u001B[0m\u001B[0;34m.\u001B[0m\u001B[0mpath_or_buf\u001B[0m\u001B[0;34m,\u001B[0m\u001B[0;34m\u001B[0m\u001B[0;34m\u001B[0m\u001B[0m\n\u001B[1;32m    187\u001B[0m                 \u001B[0mself\u001B[0m\u001B[0;34m.\u001B[0m\u001B[0mmode\u001B[0m\u001B[0;34m,\u001B[0m\u001B[0;34m\u001B[0m\u001B[0;34m\u001B[0m\u001B[0m\n",
      "\u001B[0;32m~/.local/lib/python3.8/site-packages/pandas/io/common.py\u001B[0m in \u001B[0;36mget_handle\u001B[0;34m(path_or_buf, mode, encoding, compression, memory_map, is_text, errors)\u001B[0m\n\u001B[1;32m    491\u001B[0m         \u001B[0;32mif\u001B[0m \u001B[0mencoding\u001B[0m\u001B[0;34m:\u001B[0m\u001B[0;34m\u001B[0m\u001B[0;34m\u001B[0m\u001B[0m\n\u001B[1;32m    492\u001B[0m             \u001B[0;31m# Encoding\u001B[0m\u001B[0;34m\u001B[0m\u001B[0;34m\u001B[0m\u001B[0;34m\u001B[0m\u001B[0m\n\u001B[0;32m--> 493\u001B[0;31m             \u001B[0mf\u001B[0m \u001B[0;34m=\u001B[0m \u001B[0mopen\u001B[0m\u001B[0;34m(\u001B[0m\u001B[0mpath_or_buf\u001B[0m\u001B[0;34m,\u001B[0m \u001B[0mmode\u001B[0m\u001B[0;34m,\u001B[0m \u001B[0mencoding\u001B[0m\u001B[0;34m=\u001B[0m\u001B[0mencoding\u001B[0m\u001B[0;34m,\u001B[0m \u001B[0merrors\u001B[0m\u001B[0;34m=\u001B[0m\u001B[0merrors\u001B[0m\u001B[0;34m,\u001B[0m \u001B[0mnewline\u001B[0m\u001B[0;34m=\u001B[0m\u001B[0;34m\"\"\u001B[0m\u001B[0;34m)\u001B[0m\u001B[0;34m\u001B[0m\u001B[0;34m\u001B[0m\u001B[0m\n\u001B[0m\u001B[1;32m    494\u001B[0m         \u001B[0;32melif\u001B[0m \u001B[0mis_text\u001B[0m\u001B[0;34m:\u001B[0m\u001B[0;34m\u001B[0m\u001B[0;34m\u001B[0m\u001B[0m\n\u001B[1;32m    495\u001B[0m             \u001B[0;31m# No explicit encoding\u001B[0m\u001B[0;34m\u001B[0m\u001B[0;34m\u001B[0m\u001B[0;34m\u001B[0m\u001B[0m\n",
      "\u001B[0;31mFileNotFoundError\u001B[0m: [Errno 2] No such file or directory: 'export/three_seasons.csv'"
     ]
    }
   ],
   "metadata": {}
  },
  {
   "cell_type": "code",
   "source": [
    "four_seasons = salary.join(info).join(stats19).join(stats18).join(stats17).join(stats16)\n",
    "four_seasons.fillna(0, inplace=True)\n",
    "\n",
    "# убрать новичков\n",
    "four_seasons = four_seasons[four_seasons.Pos != 0]\n",
    "\n",
    "# убрать тех, кто не играл вообще\n",
    "four_seasons = four_seasons[(four_seasons.G_19 != 0) | (four_seasons.G_18 != 0) |\n",
    "                            (four_seasons.G_17 != 0) | (four_seasons.G_16 != 0)]\n",
    "\n",
    "four_seasons.loc['DeMarcus Cousins\\\\couside01']"
   ],
   "execution_count": 27,
   "outputs": [
    {
     "data": {
      "text/plain": "Salary    2331593\nPos             C\nAge            29\nG_19            0\nGS_19           0\n           ...   \nSTL_16        1.4\nBLK_16        1.3\nTOV_16        3.7\nPF_16         3.9\nPTS_16         27\nName: DeMarcus Cousins\\couside01, Length: 103, dtype: object"
     },
     "execution_count": 27,
     "metadata": {},
     "output_type": "execute_result"
    }
   ],
   "metadata": {}
  },
  {
   "cell_type": "code",
   "source": [
    "four_seasons.shape"
   ],
   "execution_count": 28,
   "outputs": [
    {
     "data": {
      "text/plain": "(428, 103)"
     },
     "execution_count": 28,
     "metadata": {},
     "output_type": "execute_result"
    }
   ],
   "metadata": {}
  },
  {
   "cell_type": "code",
   "source": [
    "export_file_path = 'export/four_seasons.csv'\n",
    "four_seasons.to_csv(export_file_path, header=True)"
   ],
   "execution_count": 29,
   "outputs": [
    {
     "ename": "FileNotFoundError",
     "evalue": "[Errno 2] No such file or directory: 'export/four_seasons.csv'",
     "output_type": "error",
     "traceback": [
      "\u001B[0;31m---------------------------------------------------------------------------\u001B[0m",
      "\u001B[0;31mFileNotFoundError\u001B[0m                         Traceback (most recent call last)",
      "\u001B[0;32m<ipython-input-29-4269d99b726b>\u001B[0m in \u001B[0;36m<module>\u001B[0;34m\u001B[0m\n\u001B[1;32m      1\u001B[0m \u001B[0mexport_file_path\u001B[0m \u001B[0;34m=\u001B[0m \u001B[0;34m'export/four_seasons.csv'\u001B[0m\u001B[0;34m\u001B[0m\u001B[0;34m\u001B[0m\u001B[0m\n\u001B[0;32m----> 2\u001B[0;31m \u001B[0mfour_seasons\u001B[0m\u001B[0;34m.\u001B[0m\u001B[0mto_csv\u001B[0m\u001B[0;34m(\u001B[0m\u001B[0mexport_file_path\u001B[0m\u001B[0;34m,\u001B[0m \u001B[0mheader\u001B[0m\u001B[0;34m=\u001B[0m\u001B[0;32mTrue\u001B[0m\u001B[0;34m)\u001B[0m\u001B[0;34m\u001B[0m\u001B[0;34m\u001B[0m\u001B[0m\n\u001B[0m\u001B[1;32m      3\u001B[0m \u001B[0;34m\u001B[0m\u001B[0m\n",
      "\u001B[0;32m~/.local/lib/python3.8/site-packages/pandas/core/generic.py\u001B[0m in \u001B[0;36mto_csv\u001B[0;34m(self, path_or_buf, sep, na_rep, float_format, columns, header, index, index_label, mode, encoding, compression, quoting, quotechar, line_terminator, chunksize, date_format, doublequote, escapechar, decimal, errors)\u001B[0m\n\u001B[1;32m   3168\u001B[0m             \u001B[0mdecimal\u001B[0m\u001B[0;34m=\u001B[0m\u001B[0mdecimal\u001B[0m\u001B[0;34m,\u001B[0m\u001B[0;34m\u001B[0m\u001B[0;34m\u001B[0m\u001B[0m\n\u001B[1;32m   3169\u001B[0m         )\n\u001B[0;32m-> 3170\u001B[0;31m         \u001B[0mformatter\u001B[0m\u001B[0;34m.\u001B[0m\u001B[0msave\u001B[0m\u001B[0;34m(\u001B[0m\u001B[0;34m)\u001B[0m\u001B[0;34m\u001B[0m\u001B[0;34m\u001B[0m\u001B[0m\n\u001B[0m\u001B[1;32m   3171\u001B[0m \u001B[0;34m\u001B[0m\u001B[0m\n\u001B[1;32m   3172\u001B[0m         \u001B[0;32mif\u001B[0m \u001B[0mpath_or_buf\u001B[0m \u001B[0;32mis\u001B[0m \u001B[0;32mNone\u001B[0m\u001B[0;34m:\u001B[0m\u001B[0;34m\u001B[0m\u001B[0;34m\u001B[0m\u001B[0m\n",
      "\u001B[0;32m~/.local/lib/python3.8/site-packages/pandas/io/formats/csvs.py\u001B[0m in \u001B[0;36msave\u001B[0;34m(self)\u001B[0m\n\u001B[1;32m    183\u001B[0m             \u001B[0mclose\u001B[0m \u001B[0;34m=\u001B[0m \u001B[0;32mFalse\u001B[0m\u001B[0;34m\u001B[0m\u001B[0;34m\u001B[0m\u001B[0m\n\u001B[1;32m    184\u001B[0m         \u001B[0;32melse\u001B[0m\u001B[0;34m:\u001B[0m\u001B[0;34m\u001B[0m\u001B[0;34m\u001B[0m\u001B[0m\n\u001B[0;32m--> 185\u001B[0;31m             f, handles = get_handle(\n\u001B[0m\u001B[1;32m    186\u001B[0m                 \u001B[0mself\u001B[0m\u001B[0;34m.\u001B[0m\u001B[0mpath_or_buf\u001B[0m\u001B[0;34m,\u001B[0m\u001B[0;34m\u001B[0m\u001B[0;34m\u001B[0m\u001B[0m\n\u001B[1;32m    187\u001B[0m                 \u001B[0mself\u001B[0m\u001B[0;34m.\u001B[0m\u001B[0mmode\u001B[0m\u001B[0;34m,\u001B[0m\u001B[0;34m\u001B[0m\u001B[0;34m\u001B[0m\u001B[0m\n",
      "\u001B[0;32m~/.local/lib/python3.8/site-packages/pandas/io/common.py\u001B[0m in \u001B[0;36mget_handle\u001B[0;34m(path_or_buf, mode, encoding, compression, memory_map, is_text, errors)\u001B[0m\n\u001B[1;32m    491\u001B[0m         \u001B[0;32mif\u001B[0m \u001B[0mencoding\u001B[0m\u001B[0;34m:\u001B[0m\u001B[0;34m\u001B[0m\u001B[0;34m\u001B[0m\u001B[0m\n\u001B[1;32m    492\u001B[0m             \u001B[0;31m# Encoding\u001B[0m\u001B[0;34m\u001B[0m\u001B[0;34m\u001B[0m\u001B[0;34m\u001B[0m\u001B[0m\n\u001B[0;32m--> 493\u001B[0;31m             \u001B[0mf\u001B[0m \u001B[0;34m=\u001B[0m \u001B[0mopen\u001B[0m\u001B[0;34m(\u001B[0m\u001B[0mpath_or_buf\u001B[0m\u001B[0;34m,\u001B[0m \u001B[0mmode\u001B[0m\u001B[0;34m,\u001B[0m \u001B[0mencoding\u001B[0m\u001B[0;34m=\u001B[0m\u001B[0mencoding\u001B[0m\u001B[0;34m,\u001B[0m \u001B[0merrors\u001B[0m\u001B[0;34m=\u001B[0m\u001B[0merrors\u001B[0m\u001B[0;34m,\u001B[0m \u001B[0mnewline\u001B[0m\u001B[0;34m=\u001B[0m\u001B[0;34m\"\"\u001B[0m\u001B[0;34m)\u001B[0m\u001B[0;34m\u001B[0m\u001B[0;34m\u001B[0m\u001B[0m\n\u001B[0m\u001B[1;32m    494\u001B[0m         \u001B[0;32melif\u001B[0m \u001B[0mis_text\u001B[0m\u001B[0;34m:\u001B[0m\u001B[0;34m\u001B[0m\u001B[0;34m\u001B[0m\u001B[0m\n\u001B[1;32m    495\u001B[0m             \u001B[0;31m# No explicit encoding\u001B[0m\u001B[0;34m\u001B[0m\u001B[0;34m\u001B[0m\u001B[0;34m\u001B[0m\u001B[0m\n",
      "\u001B[0;31mFileNotFoundError\u001B[0m: [Errno 2] No such file or directory: 'export/four_seasons.csv'"
     ]
    }
   ],
   "metadata": {}
  },
  {
   "cell_type": "code",
   "source": [
    "five_seasons = salary.join(info).join(stats19).join(stats18).join(stats17).join(stats16).join(stats15)\n",
    "five_seasons.fillna(0, inplace=True)\n",
    "\n",
    "# убрать новичков\n",
    "five_seasons = five_seasons[five_seasons.Pos != 0]\n",
    "\n",
    "# убрать тех, кто не играл вообще\n",
    "five_seasons = five_seasons[(five_seasons.G_19 != 0) | (five_seasons.G_18 != 0) |\n",
    "                            (five_seasons.G_17 != 0) | (five_seasons.G_16 != 0) |\n",
    "                            (five_seasons.G_15 != 0)]\n",
    "\n",
    "five_seasons"
   ],
   "execution_count": 30,
   "outputs": [
    {
     "data": {
      "text/plain": "                               Salary Pos   Age  G_19  GS_19  MP_19  FG_19  \\\nPlayer                                                                       \nStephen Curry\\curryst01      43006362  PG  31.0   5.0    5.0   27.8    6.6   \nRussell Westbrook\\westbru01  41358814  PG  31.0  57.0   57.0   35.9   10.6   \nChris Paul\\paulch01          41358814  PG  34.0  70.0   70.0   31.5    6.2   \nJohn Wall\\walljo01           41254920  PG  29.0   0.0    0.0    0.0    0.0   \nJames Harden\\hardeja01       40824000  SG  30.0  68.0   68.0   36.5    9.9   \n...                               ...  ..   ...   ...    ...    ...    ...   \nWayne Ellington\\ellinwa01      440472  SG  32.0  36.0    1.0   15.5    1.7   \nA.J. Hammons\\hammoaj01         350087   C   0.0   0.0    0.0    0.0    0.0   \nRayjon Tucker\\tuckera01        340000  SG  22.0  20.0    0.0    8.1    1.0   \nTroy Williams\\willitr02        122741  SF  25.0   0.0    0.0    0.0    0.0   \nDemetrius Jackson\\jacksde01     92857  PG  25.0   0.0    0.0    0.0    0.0   \n\n                             FGA_19  FG%_19  3P_19  ...  FT%_15  ORB_15  \\\nPlayer                                              ...                   \nStephen Curry\\curryst01        16.4   0.402    2.4  ...   0.908     0.9   \nRussell Westbrook\\westbru01    22.5   0.472    1.0  ...   0.812     1.8   \nChris Paul\\paulch01            12.7   0.489    1.6  ...   0.896     0.5   \nJohn Wall\\walljo01              0.0   0.000    0.0  ...   0.791     0.5   \nJames Harden\\hardeja01         22.3   0.444    4.4  ...   0.860     0.8   \n...                             ...     ...    ...  ...     ...     ...   \nWayne Ellington\\ellinwa01       4.8   0.351    1.4  ...   0.857     0.3   \nA.J. Hammons\\hammoaj01          0.0   0.000    0.0  ...   0.000     0.0   \nRayjon Tucker\\tuckera01         2.2   0.465    0.2  ...   0.000     0.0   \nTroy Williams\\willitr02         0.0   0.000    0.0  ...   0.000     0.0   \nDemetrius Jackson\\jacksde01     0.0   0.000    0.0  ...   0.000     0.0   \n\n                             DRB_15  TRB_15  AST_15  STL_15  BLK_15  TOV_15  \\\nPlayer                                                                        \nStephen Curry\\curryst01         4.6     5.4     6.7     2.1     0.2     3.3   \nRussell Westbrook\\westbru01     6.0     7.8    10.4     2.0     0.3     4.3   \nChris Paul\\paulch01             3.7     4.2    10.0     2.1     0.2     2.6   \nJohn Wall\\walljo01              4.4     4.9    10.2     1.9     0.8     4.1   \nJames Harden\\hardeja01          5.3     6.1     7.5     1.7     0.6     4.6   \n...                             ...     ...     ...     ...     ...     ...   \nWayne Ellington\\ellinwa01       2.0     2.3     1.1     0.6     0.1     0.6   \nA.J. Hammons\\hammoaj01          0.0     0.0     0.0     0.0     0.0     0.0   \nRayjon Tucker\\tuckera01         0.0     0.0     0.0     0.0     0.0     0.0   \nTroy Williams\\willitr02         0.0     0.0     0.0     0.0     0.0     0.0   \nDemetrius Jackson\\jacksde01     0.0     0.0     0.0     0.0     0.0     0.0   \n\n                             PF_15  PTS_15  \nPlayer                                      \nStephen Curry\\curryst01        2.0    30.1  \nRussell Westbrook\\westbru01    2.5    23.5  \nChris Paul\\paulch01            2.5    19.5  \nJohn Wall\\walljo01             2.1    19.9  \nJames Harden\\hardeja01         2.8    29.0  \n...                            ...     ...  \nWayne Ellington\\ellinwa01      1.1     7.7  \nA.J. Hammons\\hammoaj01         0.0     0.0  \nRayjon Tucker\\tuckera01        0.0     0.0  \nTroy Williams\\willitr02        0.0     0.0  \nDemetrius Jackson\\jacksde01    0.0     0.0  \n\n[428 rows x 128 columns]",
      "text/html": "<div>\n<style scoped>\n    .dataframe tbody tr th:only-of-type {\n        vertical-align: middle;\n    }\n\n    .dataframe tbody tr th {\n        vertical-align: top;\n    }\n\n    .dataframe thead th {\n        text-align: right;\n    }\n</style>\n<table border=\"1\" class=\"dataframe\">\n  <thead>\n    <tr style=\"text-align: right;\">\n      <th></th>\n      <th>Salary</th>\n      <th>Pos</th>\n      <th>Age</th>\n      <th>G_19</th>\n      <th>GS_19</th>\n      <th>MP_19</th>\n      <th>FG_19</th>\n      <th>FGA_19</th>\n      <th>FG%_19</th>\n      <th>3P_19</th>\n      <th>...</th>\n      <th>FT%_15</th>\n      <th>ORB_15</th>\n      <th>DRB_15</th>\n      <th>TRB_15</th>\n      <th>AST_15</th>\n      <th>STL_15</th>\n      <th>BLK_15</th>\n      <th>TOV_15</th>\n      <th>PF_15</th>\n      <th>PTS_15</th>\n    </tr>\n    <tr>\n      <th>Player</th>\n      <th></th>\n      <th></th>\n      <th></th>\n      <th></th>\n      <th></th>\n      <th></th>\n      <th></th>\n      <th></th>\n      <th></th>\n      <th></th>\n      <th></th>\n      <th></th>\n      <th></th>\n      <th></th>\n      <th></th>\n      <th></th>\n      <th></th>\n      <th></th>\n      <th></th>\n      <th></th>\n      <th></th>\n    </tr>\n  </thead>\n  <tbody>\n    <tr>\n      <th>Stephen Curry\\curryst01</th>\n      <td>43006362</td>\n      <td>PG</td>\n      <td>31.0</td>\n      <td>5.0</td>\n      <td>5.0</td>\n      <td>27.8</td>\n      <td>6.6</td>\n      <td>16.4</td>\n      <td>0.402</td>\n      <td>2.4</td>\n      <td>...</td>\n      <td>0.908</td>\n      <td>0.9</td>\n      <td>4.6</td>\n      <td>5.4</td>\n      <td>6.7</td>\n      <td>2.1</td>\n      <td>0.2</td>\n      <td>3.3</td>\n      <td>2.0</td>\n      <td>30.1</td>\n    </tr>\n    <tr>\n      <th>Russell Westbrook\\westbru01</th>\n      <td>41358814</td>\n      <td>PG</td>\n      <td>31.0</td>\n      <td>57.0</td>\n      <td>57.0</td>\n      <td>35.9</td>\n      <td>10.6</td>\n      <td>22.5</td>\n      <td>0.472</td>\n      <td>1.0</td>\n      <td>...</td>\n      <td>0.812</td>\n      <td>1.8</td>\n      <td>6.0</td>\n      <td>7.8</td>\n      <td>10.4</td>\n      <td>2.0</td>\n      <td>0.3</td>\n      <td>4.3</td>\n      <td>2.5</td>\n      <td>23.5</td>\n    </tr>\n    <tr>\n      <th>Chris Paul\\paulch01</th>\n      <td>41358814</td>\n      <td>PG</td>\n      <td>34.0</td>\n      <td>70.0</td>\n      <td>70.0</td>\n      <td>31.5</td>\n      <td>6.2</td>\n      <td>12.7</td>\n      <td>0.489</td>\n      <td>1.6</td>\n      <td>...</td>\n      <td>0.896</td>\n      <td>0.5</td>\n      <td>3.7</td>\n      <td>4.2</td>\n      <td>10.0</td>\n      <td>2.1</td>\n      <td>0.2</td>\n      <td>2.6</td>\n      <td>2.5</td>\n      <td>19.5</td>\n    </tr>\n    <tr>\n      <th>John Wall\\walljo01</th>\n      <td>41254920</td>\n      <td>PG</td>\n      <td>29.0</td>\n      <td>0.0</td>\n      <td>0.0</td>\n      <td>0.0</td>\n      <td>0.0</td>\n      <td>0.0</td>\n      <td>0.000</td>\n      <td>0.0</td>\n      <td>...</td>\n      <td>0.791</td>\n      <td>0.5</td>\n      <td>4.4</td>\n      <td>4.9</td>\n      <td>10.2</td>\n      <td>1.9</td>\n      <td>0.8</td>\n      <td>4.1</td>\n      <td>2.1</td>\n      <td>19.9</td>\n    </tr>\n    <tr>\n      <th>James Harden\\hardeja01</th>\n      <td>40824000</td>\n      <td>SG</td>\n      <td>30.0</td>\n      <td>68.0</td>\n      <td>68.0</td>\n      <td>36.5</td>\n      <td>9.9</td>\n      <td>22.3</td>\n      <td>0.444</td>\n      <td>4.4</td>\n      <td>...</td>\n      <td>0.860</td>\n      <td>0.8</td>\n      <td>5.3</td>\n      <td>6.1</td>\n      <td>7.5</td>\n      <td>1.7</td>\n      <td>0.6</td>\n      <td>4.6</td>\n      <td>2.8</td>\n      <td>29.0</td>\n    </tr>\n    <tr>\n      <th>...</th>\n      <td>...</td>\n      <td>...</td>\n      <td>...</td>\n      <td>...</td>\n      <td>...</td>\n      <td>...</td>\n      <td>...</td>\n      <td>...</td>\n      <td>...</td>\n      <td>...</td>\n      <td>...</td>\n      <td>...</td>\n      <td>...</td>\n      <td>...</td>\n      <td>...</td>\n      <td>...</td>\n      <td>...</td>\n      <td>...</td>\n      <td>...</td>\n      <td>...</td>\n      <td>...</td>\n    </tr>\n    <tr>\n      <th>Wayne Ellington\\ellinwa01</th>\n      <td>440472</td>\n      <td>SG</td>\n      <td>32.0</td>\n      <td>36.0</td>\n      <td>1.0</td>\n      <td>15.5</td>\n      <td>1.7</td>\n      <td>4.8</td>\n      <td>0.351</td>\n      <td>1.4</td>\n      <td>...</td>\n      <td>0.857</td>\n      <td>0.3</td>\n      <td>2.0</td>\n      <td>2.3</td>\n      <td>1.1</td>\n      <td>0.6</td>\n      <td>0.1</td>\n      <td>0.6</td>\n      <td>1.1</td>\n      <td>7.7</td>\n    </tr>\n    <tr>\n      <th>A.J. Hammons\\hammoaj01</th>\n      <td>350087</td>\n      <td>C</td>\n      <td>0.0</td>\n      <td>0.0</td>\n      <td>0.0</td>\n      <td>0.0</td>\n      <td>0.0</td>\n      <td>0.0</td>\n      <td>0.000</td>\n      <td>0.0</td>\n      <td>...</td>\n      <td>0.000</td>\n      <td>0.0</td>\n      <td>0.0</td>\n      <td>0.0</td>\n      <td>0.0</td>\n      <td>0.0</td>\n      <td>0.0</td>\n      <td>0.0</td>\n      <td>0.0</td>\n      <td>0.0</td>\n    </tr>\n    <tr>\n      <th>Rayjon Tucker\\tuckera01</th>\n      <td>340000</td>\n      <td>SG</td>\n      <td>22.0</td>\n      <td>20.0</td>\n      <td>0.0</td>\n      <td>8.1</td>\n      <td>1.0</td>\n      <td>2.2</td>\n      <td>0.465</td>\n      <td>0.2</td>\n      <td>...</td>\n      <td>0.000</td>\n      <td>0.0</td>\n      <td>0.0</td>\n      <td>0.0</td>\n      <td>0.0</td>\n      <td>0.0</td>\n      <td>0.0</td>\n      <td>0.0</td>\n      <td>0.0</td>\n      <td>0.0</td>\n    </tr>\n    <tr>\n      <th>Troy Williams\\willitr02</th>\n      <td>122741</td>\n      <td>SF</td>\n      <td>25.0</td>\n      <td>0.0</td>\n      <td>0.0</td>\n      <td>0.0</td>\n      <td>0.0</td>\n      <td>0.0</td>\n      <td>0.000</td>\n      <td>0.0</td>\n      <td>...</td>\n      <td>0.000</td>\n      <td>0.0</td>\n      <td>0.0</td>\n      <td>0.0</td>\n      <td>0.0</td>\n      <td>0.0</td>\n      <td>0.0</td>\n      <td>0.0</td>\n      <td>0.0</td>\n      <td>0.0</td>\n    </tr>\n    <tr>\n      <th>Demetrius Jackson\\jacksde01</th>\n      <td>92857</td>\n      <td>PG</td>\n      <td>25.0</td>\n      <td>0.0</td>\n      <td>0.0</td>\n      <td>0.0</td>\n      <td>0.0</td>\n      <td>0.0</td>\n      <td>0.000</td>\n      <td>0.0</td>\n      <td>...</td>\n      <td>0.000</td>\n      <td>0.0</td>\n      <td>0.0</td>\n      <td>0.0</td>\n      <td>0.0</td>\n      <td>0.0</td>\n      <td>0.0</td>\n      <td>0.0</td>\n      <td>0.0</td>\n      <td>0.0</td>\n    </tr>\n  </tbody>\n</table>\n<p>428 rows × 128 columns</p>\n</div>"
     },
     "execution_count": 30,
     "metadata": {},
     "output_type": "execute_result"
    }
   ],
   "metadata": {}
  },
  {
   "cell_type": "code",
   "source": [
    "five_seasons.shape"
   ],
   "execution_count": 31,
   "outputs": [
    {
     "data": {
      "text/plain": "(428, 128)"
     },
     "execution_count": 31,
     "metadata": {},
     "output_type": "execute_result"
    }
   ],
   "metadata": {}
  },
  {
   "cell_type": "code",
   "source": [
    "export_file_path = 'export/five_seasons.csv'\n",
    "five_seasons.to_csv(export_file_path, header=True)"
   ],
   "execution_count": 32,
   "outputs": [
    {
     "ename": "FileNotFoundError",
     "evalue": "[Errno 2] No such file or directory: 'export/five_seasons.csv'",
     "output_type": "error",
     "traceback": [
      "\u001B[0;31m---------------------------------------------------------------------------\u001B[0m",
      "\u001B[0;31mFileNotFoundError\u001B[0m                         Traceback (most recent call last)",
      "\u001B[0;32m<ipython-input-32-6604d6a59f65>\u001B[0m in \u001B[0;36m<module>\u001B[0;34m\u001B[0m\n\u001B[1;32m      1\u001B[0m \u001B[0mexport_file_path\u001B[0m \u001B[0;34m=\u001B[0m \u001B[0;34m'export/five_seasons.csv'\u001B[0m\u001B[0;34m\u001B[0m\u001B[0;34m\u001B[0m\u001B[0m\n\u001B[0;32m----> 2\u001B[0;31m \u001B[0mfive_seasons\u001B[0m\u001B[0;34m.\u001B[0m\u001B[0mto_csv\u001B[0m\u001B[0;34m(\u001B[0m\u001B[0mexport_file_path\u001B[0m\u001B[0;34m,\u001B[0m \u001B[0mheader\u001B[0m\u001B[0;34m=\u001B[0m\u001B[0;32mTrue\u001B[0m\u001B[0;34m)\u001B[0m\u001B[0;34m\u001B[0m\u001B[0;34m\u001B[0m\u001B[0m\n\u001B[0m\u001B[1;32m      3\u001B[0m \u001B[0;34m\u001B[0m\u001B[0m\n",
      "\u001B[0;32m~/.local/lib/python3.8/site-packages/pandas/core/generic.py\u001B[0m in \u001B[0;36mto_csv\u001B[0;34m(self, path_or_buf, sep, na_rep, float_format, columns, header, index, index_label, mode, encoding, compression, quoting, quotechar, line_terminator, chunksize, date_format, doublequote, escapechar, decimal, errors)\u001B[0m\n\u001B[1;32m   3168\u001B[0m             \u001B[0mdecimal\u001B[0m\u001B[0;34m=\u001B[0m\u001B[0mdecimal\u001B[0m\u001B[0;34m,\u001B[0m\u001B[0;34m\u001B[0m\u001B[0;34m\u001B[0m\u001B[0m\n\u001B[1;32m   3169\u001B[0m         )\n\u001B[0;32m-> 3170\u001B[0;31m         \u001B[0mformatter\u001B[0m\u001B[0;34m.\u001B[0m\u001B[0msave\u001B[0m\u001B[0;34m(\u001B[0m\u001B[0;34m)\u001B[0m\u001B[0;34m\u001B[0m\u001B[0;34m\u001B[0m\u001B[0m\n\u001B[0m\u001B[1;32m   3171\u001B[0m \u001B[0;34m\u001B[0m\u001B[0m\n\u001B[1;32m   3172\u001B[0m         \u001B[0;32mif\u001B[0m \u001B[0mpath_or_buf\u001B[0m \u001B[0;32mis\u001B[0m \u001B[0;32mNone\u001B[0m\u001B[0;34m:\u001B[0m\u001B[0;34m\u001B[0m\u001B[0;34m\u001B[0m\u001B[0m\n",
      "\u001B[0;32m~/.local/lib/python3.8/site-packages/pandas/io/formats/csvs.py\u001B[0m in \u001B[0;36msave\u001B[0;34m(self)\u001B[0m\n\u001B[1;32m    183\u001B[0m             \u001B[0mclose\u001B[0m \u001B[0;34m=\u001B[0m \u001B[0;32mFalse\u001B[0m\u001B[0;34m\u001B[0m\u001B[0;34m\u001B[0m\u001B[0m\n\u001B[1;32m    184\u001B[0m         \u001B[0;32melse\u001B[0m\u001B[0;34m:\u001B[0m\u001B[0;34m\u001B[0m\u001B[0;34m\u001B[0m\u001B[0m\n\u001B[0;32m--> 185\u001B[0;31m             f, handles = get_handle(\n\u001B[0m\u001B[1;32m    186\u001B[0m                 \u001B[0mself\u001B[0m\u001B[0;34m.\u001B[0m\u001B[0mpath_or_buf\u001B[0m\u001B[0;34m,\u001B[0m\u001B[0;34m\u001B[0m\u001B[0;34m\u001B[0m\u001B[0m\n\u001B[1;32m    187\u001B[0m                 \u001B[0mself\u001B[0m\u001B[0;34m.\u001B[0m\u001B[0mmode\u001B[0m\u001B[0;34m,\u001B[0m\u001B[0;34m\u001B[0m\u001B[0;34m\u001B[0m\u001B[0m\n",
      "\u001B[0;32m~/.local/lib/python3.8/site-packages/pandas/io/common.py\u001B[0m in \u001B[0;36mget_handle\u001B[0;34m(path_or_buf, mode, encoding, compression, memory_map, is_text, errors)\u001B[0m\n\u001B[1;32m    491\u001B[0m         \u001B[0;32mif\u001B[0m \u001B[0mencoding\u001B[0m\u001B[0;34m:\u001B[0m\u001B[0;34m\u001B[0m\u001B[0;34m\u001B[0m\u001B[0m\n\u001B[1;32m    492\u001B[0m             \u001B[0;31m# Encoding\u001B[0m\u001B[0;34m\u001B[0m\u001B[0;34m\u001B[0m\u001B[0;34m\u001B[0m\u001B[0m\n\u001B[0;32m--> 493\u001B[0;31m             \u001B[0mf\u001B[0m \u001B[0;34m=\u001B[0m \u001B[0mopen\u001B[0m\u001B[0;34m(\u001B[0m\u001B[0mpath_or_buf\u001B[0m\u001B[0;34m,\u001B[0m \u001B[0mmode\u001B[0m\u001B[0;34m,\u001B[0m \u001B[0mencoding\u001B[0m\u001B[0;34m=\u001B[0m\u001B[0mencoding\u001B[0m\u001B[0;34m,\u001B[0m \u001B[0merrors\u001B[0m\u001B[0;34m=\u001B[0m\u001B[0merrors\u001B[0m\u001B[0;34m,\u001B[0m \u001B[0mnewline\u001B[0m\u001B[0;34m=\u001B[0m\u001B[0;34m\"\"\u001B[0m\u001B[0;34m)\u001B[0m\u001B[0;34m\u001B[0m\u001B[0;34m\u001B[0m\u001B[0m\n\u001B[0m\u001B[1;32m    494\u001B[0m         \u001B[0;32melif\u001B[0m \u001B[0mis_text\u001B[0m\u001B[0;34m:\u001B[0m\u001B[0;34m\u001B[0m\u001B[0;34m\u001B[0m\u001B[0m\n\u001B[1;32m    495\u001B[0m             \u001B[0;31m# No explicit encoding\u001B[0m\u001B[0;34m\u001B[0m\u001B[0;34m\u001B[0m\u001B[0;34m\u001B[0m\u001B[0m\n",
      "\u001B[0;31mFileNotFoundError\u001B[0m: [Errno 2] No such file or directory: 'export/five_seasons.csv'"
     ]
    }
   ],
   "metadata": {}
  },
  {
   "cell_type": "code",
   "source": [],
   "execution_count": 0,
   "outputs": [],
   "metadata": {}
  }
 ],
 "metadata": {
  "kernelspec": {
   "name": "pycharm-c6e85ea0",
   "language": "python",
   "display_name": "PyCharm (tensorflowtest)"
  }
 },
 "nbformat": 4,
 "nbformat_minor": 0
}